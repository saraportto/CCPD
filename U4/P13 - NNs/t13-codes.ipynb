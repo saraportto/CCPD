{
 "cells": [
  {
   "cell_type": "markdown",
   "id": "1a81ee8c",
   "metadata": {},
   "source": [
    "# Tema 13: Deep learning"
   ]
  },
  {
   "cell_type": "markdown",
   "id": "68a64185",
   "metadata": {},
   "source": [
    "## B - Introducción a las redes neuronales"
   ]
  },
  {
   "cell_type": "code",
   "execution_count": null,
   "id": "76c46d58",
   "metadata": {},
   "outputs": [],
   "source": [
    "import tensorflow as tf\n",
    "print(\"Num GPUs available: \", len(tf.config.list_physical_devices('GPU')))"
   ]
  },
  {
   "cell_type": "markdown",
   "id": "b61cc96f",
   "metadata": {},
   "source": [
    "__Cargamos los datos__"
   ]
  },
  {
   "cell_type": "code",
   "execution_count": null,
   "id": "8db4e0e4",
   "metadata": {},
   "outputs": [],
   "source": [
    "from tensorflow.keras.datasets import mnist\n",
    "(x_train, y_train), (x_valid, y_valid) = mnist.load_data()"
   ]
  },
  {
   "cell_type": "markdown",
   "id": "aba0c94c",
   "metadata": {},
   "source": [
    "__Exploramos los datos__"
   ]
  },
  {
   "cell_type": "code",
   "execution_count": null,
   "id": "63a0abed",
   "metadata": {},
   "outputs": [],
   "source": [
    "x_train.shape"
   ]
  },
  {
   "cell_type": "code",
   "execution_count": null,
   "id": "6b0fdf5b",
   "metadata": {},
   "outputs": [],
   "source": [
    "x_valid.shape"
   ]
  },
  {
   "cell_type": "code",
   "execution_count": null,
   "id": "6e0bf72c",
   "metadata": {},
   "outputs": [],
   "source": [
    "x_train.dtype"
   ]
  },
  {
   "cell_type": "code",
   "execution_count": null,
   "id": "74e1163f",
   "metadata": {},
   "outputs": [],
   "source": [
    "x_train.min()"
   ]
  },
  {
   "cell_type": "code",
   "execution_count": null,
   "id": "183a2472",
   "metadata": {},
   "outputs": [],
   "source": [
    "x_train.max()"
   ]
  },
  {
   "cell_type": "code",
   "execution_count": null,
   "id": "24861974",
   "metadata": {},
   "outputs": [],
   "source": [
    "x_train[0]"
   ]
  },
  {
   "cell_type": "code",
   "execution_count": null,
   "id": "7745b6f3",
   "metadata": {},
   "outputs": [],
   "source": [
    "import matplotlib.pyplot as plt\n",
    "import numpy as np\n",
    "n_to_show = 10\n",
    "input_idx = np.random.choice(range(len(x_train)), n_to_show)\n",
    "input_images = x_train[input_idx]\n",
    "input_labels = y_train[input_idx]\n",
    "\n",
    "fig = plt.figure(figsize=(15, 2))\n",
    "fig.subplots_adjust(hspace=0.1, wspace=0.4)\n",
    "for i in range(n_to_show):\n",
    "    ax = fig.add_subplot(1, n_to_show, i+1)\n",
    "    ax.axis('off')\n",
    "    ax.set_title(input_labels[i])\n",
    "    fig.suptitle('MNIST digits')\n",
    "    ax.imshow(input_images[i], cmap='binary')"
   ]
  },
  {
   "cell_type": "markdown",
   "id": "d5d072ce",
   "metadata": {},
   "source": [
    "__Normalizamos y aplanamos el training set__"
   ]
  },
  {
   "cell_type": "code",
   "execution_count": null,
   "id": "541072c0",
   "metadata": {},
   "outputs": [],
   "source": [
    "x_train = x_train / 255\n",
    "x_valid = x_valid / 255\n",
    "print(x_train.dtype)\n",
    "print(x_train.min(), x_train.max())\n",
    "x_train = x_train.reshape(60000,784)\n",
    "x_valid = x_valid.reshape(10000,784)\n",
    "print(x_train.shape)"
   ]
  },
  {
   "cell_type": "markdown",
   "id": "6367148f",
   "metadata": {},
   "source": [
    "__Categorizamos las etiquetas__"
   ]
  },
  {
   "cell_type": "code",
   "execution_count": null,
   "id": "cea5b580",
   "metadata": {},
   "outputs": [],
   "source": [
    "import tensorflow.keras as keras\n",
    "num_categories = 10\n",
    "y_train = keras.utils.to_categorical(y_train, num_categories)\n",
    "y_valid = keras.utils.to_categorical(y_valid, num_categories)\n",
    "y_train[0:10]"
   ]
  },
  {
   "cell_type": "markdown",
   "id": "22ba22fa",
   "metadata": {},
   "source": [
    "__Creamos el modelo__"
   ]
  },
  {
   "cell_type": "code",
   "execution_count": null,
   "id": "a1dadde3",
   "metadata": {},
   "outputs": [],
   "source": [
    "from tensorflow.keras.models import Sequential\n",
    "from tensorflow.keras.layers import Dense\n",
    "model = Sequential()\n",
    "model.add(Dense(units=512, activation='relu', input_shape=(784,)))\n",
    "model.add(Dense(units = 512, activation='relu'))\n",
    "model.add(Dense(units = 10, activation='softmax'))\n",
    "model.summary()\n",
    "model.compile(loss='categorical_crossentropy', metrics=['accuracy'])"
   ]
  },
  {
   "cell_type": "markdown",
   "id": "37456ac0",
   "metadata": {},
   "source": [
    "__Entrenamos el modelo__"
   ]
  },
  {
   "cell_type": "code",
   "execution_count": null,
   "id": "f93c784c",
   "metadata": {},
   "outputs": [],
   "source": [
    "model.fit(x_train, y_train, epochs=10, validation_data=(x_valid, y_valid))"
   ]
  },
  {
   "cell_type": "markdown",
   "id": "0d0b0ce1",
   "metadata": {},
   "source": [
    "__Ejercicio: reconocimiento de lenguaje de signos__"
   ]
  },
  {
   "cell_type": "code",
   "execution_count": null,
   "id": "852dc224",
   "metadata": {},
   "outputs": [],
   "source": [
    "import pandas as pd\n",
    "train_df = pd.read_csv(\"/var/ASLData/sign_mnist_train.csv\")\n",
    "valid_df = pd.read_csv(\"/var/ASLData/sign_mnist_valid.csv\")\n",
    "print(train_df.head(n=2))\n",
    "\n",
    "y_train = train_df['label']\n",
    "y_valid = valid_df['label']\n",
    "del train_df['label']\n",
    "del valid_df['label']\n",
    "x_train = train_df.values\n",
    "x_valid = valid_df.values"
   ]
  },
  {
   "cell_type": "code",
   "execution_count": null,
   "id": "20c86266",
   "metadata": {},
   "outputs": [],
   "source": [
    "print(x_train.shape)\n",
    "print(y_train.shape)\n",
    "print(x_valid.shape)\n",
    "print(y_valid.shape)"
   ]
  },
  {
   "cell_type": "code",
   "execution_count": null,
   "id": "bb3921f5",
   "metadata": {},
   "outputs": [],
   "source": [
    "import matplotlib.pyplot as plt\n",
    "plt.figure()\n",
    "nfils=4\n",
    "ncols=5\n",
    "fig, axes = plt.subplots(nfils, ncols)\n",
    "for fil in range(nfils):\n",
    "    for col in range(ncols):\n",
    "        i = fil*ncols + col\n",
    "        sign = x_train[i]\n",
    "        label = y_train[i]\n",
    "        image = sign.reshape(28,28)\n",
    "        axes[fil,col].imshow(image, cmap='gray')\n",
    "        axes[fil,col].set_title(label, fontdict={'fontsize': 10})\n",
    "        axes[fil,col].axis('off')\n"
   ]
  },
  {
   "cell_type": "code",
   "execution_count": null,
   "id": "bc18a314",
   "metadata": {},
   "outputs": [],
   "source": [
    "print(x_train.min())\n",
    "print(x_train.max())\n",
    "print(x_valid.min())\n",
    "print(x_valid.max())"
   ]
  },
  {
   "cell_type": "code",
   "execution_count": null,
   "id": "546936f8",
   "metadata": {},
   "outputs": [],
   "source": [
    "# TODO: normalizar x_train y x_valid\n",
    "\n",
    "import tensorflow.keras as keras\n",
    "num_classes = 25\n",
    "\n",
    "# TODO: categorizar y_train y y_valid\n",
    "\n",
    "from tensorflow.keras.models import Sequential\n",
    "from tensorflow.keras.layers import Dense\n",
    "import os\n",
    "\n",
    "#   TODO: construir un modelo secuencial:\n",
    "#    1. Capa de entrada densa con 512 neuronas, ReLU y esperando 784 parámetros\n",
    "#    2. Capa oculta densa con 512 neuronas y función de activación ReLU\n",
    "#    3. Capa de salida densa y función de activación softmax\n",
    "\n",
    "model.summary()\n",
    "\n",
    "model.compile(loss='categorical_crossentropy', metrics=['accuracy'])\n",
    "\n",
    "# TODO: entrenar el modelo con 20 epochs"
   ]
  },
  {
   "cell_type": "markdown",
   "id": "c22610cc",
   "metadata": {},
   "source": [
    "## C - Redes neuronales convolucionales"
   ]
  },
  {
   "cell_type": "code",
   "execution_count": null,
   "id": "6e64a090",
   "metadata": {},
   "outputs": [],
   "source": [
    "import pandas as pd\n",
    "import tensorflow.keras as keras\n",
    "\n",
    "# Carga ficheros .csv\n",
    "train_df = pd.read_csv(\"/var/ASLData/sign_mnist_train.csv\")\n",
    "valid_df = pd.read_csv(\"/var/ASLData/sign_mnist_valid.csv\")\n",
    "\n",
    "# Extrae los valores objetivo\n",
    "y_train = train_df['label']\n",
    "y_valid = valid_df['label']\n",
    "del train_df['label']\n",
    "del valid_df['label']\n",
    "\n",
    "# Separa y normaliza vectores de imágenes\n",
    "x_train = train_df.values\n",
    "x_valid = valid_df.values\n",
    "x_train = x_train / 255\n",
    "x_valid = x_valid / 255\n",
    "\n",
    "# Categoriza las salidas \n",
    "num_classes = 24\n",
    "y_train = keras.utils.to_categorical(y_train, num_classes)\n",
    "y_valid = keras.utils.to_categorical(y_valid, num_classes)"
   ]
  },
  {
   "cell_type": "code",
   "execution_count": null,
   "id": "e0f13d72",
   "metadata": {},
   "outputs": [],
   "source": [
    "print(x_train.shape, x_valid.shape)\n",
    "\n",
    "# Prepara para las CNNs\n",
    "x_train = x_train.reshape(-1,28,28,1)\n",
    "x_valid = x_valid.reshape(-1,28,28,1)\n",
    "\n",
    "print(x_train.shape, x_valid.shape)"
   ]
  },
  {
   "cell_type": "code",
   "execution_count": null,
   "id": "16c72f7a",
   "metadata": {},
   "outputs": [],
   "source": [
    "from tensorflow.keras.models import Sequential\n",
    "from tensorflow.keras.layers import (Dense,Conv2D,MaxPool2D,Flatten,Dropout,BatchNormalization)\n",
    "import tensorflow as tf\n",
    "\n",
    "model = Sequential()\n",
    "model.add(Conv2D(75, (3, 3), strides=1, padding=\"same\", activation=\"relu\", input_shape=(28, 28, 1)))\n",
    "model.add(BatchNormalization())\n",
    "model.add(MaxPool2D((2, 2), strides=2, padding=\"same\"))\n",
    "model.add(Conv2D(50, (3, 3), strides=1, padding=\"same\", activation=\"relu\"))\n",
    "model.add(Dropout(0.2))\n",
    "model.add(BatchNormalization())\n",
    "model.add(MaxPool2D((2, 2), strides=2, padding=\"same\"))\n",
    "model.add(Conv2D(25, (3, 3), strides=1, padding=\"same\", activation=\"relu\"))\n",
    "model.add(BatchNormalization())\n",
    "model.add(MaxPool2D((2, 2), strides=2, padding=\"same\"))\n",
    "model.add(Flatten())\n",
    "model.add(Dense(units=512, activation=\"relu\"))\n",
    "model.add(Dropout(0.3))\n",
    "model.add(Dense(units=num_classes, activation=\"softmax\"))\n",
    "model.summary()"
   ]
  },
  {
   "cell_type": "code",
   "execution_count": null,
   "id": "3a2e9062",
   "metadata": {},
   "outputs": [],
   "source": [
    "model.compile(loss=\"categorical_crossentropy\", metrics=[\"accuracy\"])\n",
    "model.fit(x_train, y_train, epochs=10, verbose=1, validation_data=(x_valid, y_valid))"
   ]
  },
  {
   "cell_type": "markdown",
   "id": "63283935",
   "metadata": {},
   "source": [
    "## D - Data augmentation"
   ]
  },
  {
   "cell_type": "code",
   "execution_count": null,
   "id": "8e401a92",
   "metadata": {},
   "outputs": [],
   "source": [
    "import pandas as pd\n",
    "import tensorflow.keras as keras\n",
    "\n",
    "# Carga ficheros .csv\n",
    "train_df = pd.read_csv(\"/var/ASLData/sign_mnist_train.csv\")\n",
    "valid_df = pd.read_csv(\"/var/ASLData/sign_mnist_valid.csv\")\n",
    "\n",
    "# Extrae los valores objetivo\n",
    "y_train = train_df['label']\n",
    "y_valid = valid_df['label']\n",
    "del train_df['label']\n",
    "del valid_df['label']\n",
    "\n",
    "# Separa y normaliza vectores de imágenes\n",
    "x_train = train_df.values\n",
    "x_valid = valid_df.values\n",
    "x_train = x_train / 255\n",
    "x_valid = x_valid / 255\n",
    "\n",
    "# Categoriza las salidas\n",
    "num_classes = 25\n",
    "y_train = keras.utils.to_categorical(y_train, num_classes)\n",
    "y_valid = keras.utils.to_categorical(y_valid, num_classes)\n",
    "\n",
    "# Prepara para las CNNs\n",
    "x_train = x_train.reshape(-1,28,28,1)\n",
    "x_valid = x_valid.reshape(-1,28,28,1)"
   ]
  },
  {
   "cell_type": "code",
   "execution_count": null,
   "id": "5f521fbd",
   "metadata": {},
   "outputs": [],
   "source": [
    "# Creación del modelo\n",
    "from tensorflow.keras.models import Sequential\n",
    "from tensorflow.keras.layers import (Dense,Conv2D,MaxPool2D,Flatten,Dropout,BatchNormalization)\n",
    "\n",
    "model = Sequential()\n",
    "model.add(Conv2D(75, (3, 3), strides=1, padding=\"same\", activation=\"relu\", input_shape=(28, 28, 1)))\n",
    "model.add(BatchNormalization())\n",
    "model.add(MaxPool2D((2, 2), strides=2, padding=\"same\"))\n",
    "model.add(Conv2D(50, (3, 3), strides=1, padding=\"same\", activation=\"relu\"))\n",
    "model.add(Dropout(0.2))\n",
    "model.add(BatchNormalization())\n",
    "model.add(MaxPool2D((2, 2), strides=2, padding=\"same\"))\n",
    "model.add(Conv2D(25, (3, 3), strides=1, padding=\"same\", activation=\"relu\"))\n",
    "model.add(BatchNormalization())\n",
    "model.add(MaxPool2D((2, 2), strides=2, padding=\"same\"))\n",
    "model.add(Flatten())\n",
    "model.add(Dense(units=512, activation=\"relu\"))\n",
    "model.add(Dropout(0.3))\n",
    "model.add(Dense(units=num_classes, activation=\"softmax\"))"
   ]
  },
  {
   "cell_type": "code",
   "execution_count": null,
   "id": "9099a0be",
   "metadata": {},
   "outputs": [],
   "source": [
    "# Data augmentation\n",
    "from tensorflow.keras.preprocessing.image import ImageDataGenerator\n",
    "\n",
    "datagen = ImageDataGenerator(\n",
    "    rotation_range=10,\n",
    "        # Límite de rotación aleatoria en grados\n",
    "    zoom_range=0.1,\n",
    "        # Zoom aleatorio entre 1-zoom_range y 1+zoom_range\n",
    "    width_shift_range=0.1,\n",
    "        # Desplazamiento horizontal aleatorio (fracción del ancho)\n",
    "    height_shift_range=0.1,\n",
    "        # Desplazamiento vertical aleatorio (fracción del ancho)\n",
    "    horizontal_flip=True,\n",
    "        # Reflexión horizontal aleatoria\n",
    "    vertical_flip=False,\n",
    "        # No reflexión vertical aleatoria\n",
    ") \n",
    "\n",
    "\n",
    "# El generador es creado y acoplado al conjunto de entrenamiento\n",
    "img_iter = datagen.flow(x_train, y_train)\n",
    "datagen.fit(x_train)"
   ]
  },
  {
   "cell_type": "code",
   "execution_count": null,
   "id": "97b7af8d",
   "metadata": {},
   "outputs": [],
   "source": [
    "# Muestra el tipo de imágenes que genera\n",
    "import matplotlib.pyplot as plt\n",
    "import numpy as np\n",
    "x, y = next(img_iter)\n",
    "fig, ax = plt.subplots(nrows=4, ncols=5)\n",
    "for i in range(20):\n",
    "    image = x[i]\n",
    "    ax.flatten()[i].imshow(np.squeeze(image), cmap='gray')\n",
    "    ax.flatten()[i].axis('off')\n"
   ]
  },
  {
   "cell_type": "code",
   "execution_count": null,
   "id": "e1b8520e",
   "metadata": {},
   "outputs": [],
   "source": [
    "# Compila y entrena el modelo\n",
    "model.compile(loss=\"categorical_crossentropy\", metrics=[\"accuracy\"])\n",
    "\n",
    "# model.fit(x_train, y_train, epochs=20,  validation_data=(x_valid, y_valid))\n",
    "model.fit(img_iter, epochs=20, validation_data=(x_valid, y_valid))\n",
    "\n",
    "# Grabamos el modelo\n",
    "model.save('asl_model.keras')"
   ]
  },
  {
   "cell_type": "markdown",
   "id": "36a29a20",
   "metadata": {},
   "source": [
    "__Ejercicio: inferencia__"
   ]
  },
  {
   "cell_type": "code",
   "execution_count": null,
   "id": "161b6110",
   "metadata": {},
   "outputs": [],
   "source": [
    "from tensorflow import keras\n",
    "model = keras.models.load_model('asl_model.keras')\n",
    "model.summary()"
   ]
  },
  {
   "cell_type": "code",
   "execution_count": null,
   "id": "b47b25f2",
   "metadata": {},
   "outputs": [],
   "source": [
    "from tensorflow.keras.preprocessing import image as image_utils\n",
    "image_a = image_utils.load_img('/var/ASLData/a.png', color_mode=\"grayscale\", target_size=(28,28))\n",
    "import matplotlib.pyplot as plt\n",
    "plt.imshow(image_a, cmap='gray')\n",
    "plt.show()\n",
    "\n",
    "image_a = image_utils.img_to_array(image_a)\n",
    "image_a = image_a.reshape(1,28,28,1)\n",
    "image_a = image_a / 255"
   ]
  },
  {
   "cell_type": "code",
   "execution_count": null,
   "id": "9097453c",
   "metadata": {},
   "outputs": [],
   "source": [
    "prediction = model.predict(image_a)\n",
    "print(prediction)"
   ]
  },
  {
   "cell_type": "code",
   "execution_count": null,
   "id": "f2a28465",
   "metadata": {},
   "outputs": [],
   "source": [
    "import numpy as np\n",
    "from tensorflow import keras\n",
    "from tensorflow.keras.preprocessing import image as image_utils\n",
    "\n",
    "alphabet = \"abcdefghiklmnopqrstuvwxy\"\n",
    "model = keras.models.load_model('asl_model.keras') \n",
    "image_file=\"/var/DL_data/a.png\"\n",
    "\n",
    "def predict_letter(file):\n",
    "    image = # TODO: cargar y escalar imagen\n",
    "    image = # TODO: convertir a array\n",
    "    image = # TODO: cambiar forma de imagen\n",
    "    image = # TODO: normalizar imagen\n",
    "    prediction = # TODO: hacer prediccion\n",
    "    predicted_letter = # TODO convertir predicción a letra\n",
    "    return predicted_letter\n",
    "\n",
    "print(\"Prediction: \",predict_letter(image_file))"
   ]
  }
 ],
 "metadata": {
  "kernelspec": {
   "display_name": "Python 3 (ipykernel)",
   "language": "python",
   "name": "python3"
  },
  "language_info": {
   "codemirror_mode": {
    "name": "ipython",
    "version": 3
   },
   "file_extension": ".py",
   "mimetype": "text/x-python",
   "name": "python",
   "nbconvert_exporter": "python",
   "pygments_lexer": "ipython3",
   "version": "3.12.3"
  }
 },
 "nbformat": 4,
 "nbformat_minor": 5
}
