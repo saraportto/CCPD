{
 "cells": [
  {
   "cell_type": "markdown",
   "id": "45aa01ff",
   "metadata": {},
   "source": [
    "# Tema 13: Deep learning\n",
    "\n",
    "## B - Introducción a las redes neuronales\n",
    "\n",
    "__Ejercicio: reconocimiento de lenguaje de signos__: "
   ]
  },
  {
   "cell_type": "code",
   "execution_count": null,
   "id": "e8b9c285",
   "metadata": {},
   "outputs": [],
   "source": [
    "import pandas as pd\n",
    "train_df = pd.read_csv(\"/var/ASLData/sign_mnist_train.csv\")\n",
    "valid_df = pd.read_csv(\"/var/ASLData/sign_mnist_valid.csv\")\n",
    "print(train_df.head(n=2))\n",
    "\n",
    "y_train = train_df['label']\n",
    "y_valid = valid_df['label']\n",
    "del train_df['label']\n",
    "del valid_df['label']\n",
    "x_train = train_df.values\n",
    "x_valid = valid_df.values\n",
    "\n",
    "print(x_train.shape)\n",
    "print(y_train.shape)\n",
    "print(x_valid.shape)\n",
    "print(y_valid.shape)\n",
    "\n",
    "import matplotlib.pyplot as plt\n",
    "plt.figure()\n",
    "nfils=4\n",
    "ncols=5\n",
    "fig, axes = plt.subplots(nfils, ncols)\n",
    "for fil in range(nfils):\n",
    "    for col in range(ncols):\n",
    "        i = fil*ncols + col\n",
    "        sign = x_train[i]\n",
    "        label = y_train[i]\n",
    "        image = sign.reshape(28,28)\n",
    "        axes[fil,col].imshow(image, cmap='gray')\n",
    "        axes[fil,col].set_title(label, fontdict={'fontsize': 10})\n",
    "        axes[fil,col].axis('off')\n",
    "plt.show()\n",
    "        \n",
    "x_train = x_train / 255\n",
    "x_valid = x_valid / 255\n",
    "\n",
    "import tensorflow.keras as keras\n",
    "num_classes = 25\n",
    "y_train = keras.utils.to_categorical(y_train, num_classes)\n",
    "y_valid = keras.utils.to_categorical(y_valid, num_classes)\n",
    "\n",
    "from tensorflow.keras.models import Sequential\n",
    "from tensorflow.keras.layers import Dense\n",
    "import os\n",
    "\n",
    "model = Sequential()\n",
    "model.add(Dense(units = 512, activation='relu', input_shape=(784,)))\n",
    "model.add(Dense(units = 512, activation='relu'))\n",
    "model.add(Dense(units = num_classes, activation='softmax'))\n",
    "\n",
    "model.summary()\n",
    "\n",
    "model.compile(loss='categorical_crossentropy', metrics=['accuracy'])\n",
    "model.fit(x_train, y_train, epochs=20, verbose=1, validation_data=(x_valid, y_valid))\n"
   ]
  },
  {
   "cell_type": "markdown",
   "id": "b089de10",
   "metadata": {},
   "source": [
    "__Ejercicio: inferencia__"
   ]
  },
  {
   "cell_type": "code",
   "execution_count": null,
   "id": "ca338cf8",
   "metadata": {},
   "outputs": [],
   "source": [
    "from tensorflow import keras\n",
    "model = keras.models.load_model('asl_model')\n",
    "model.summary()"
   ]
  },
  {
   "cell_type": "code",
   "execution_count": null,
   "id": "059b2113",
   "metadata": {},
   "outputs": [],
   "source": [
    "from tensorflow.keras.preprocessing import image as image_utils\n",
    "image_a = image_utils.load_img('/var/ASLData/a.png', color_mode=\"grayscale\", target_size=(28,28))\n",
    "import matplotlib.pyplot as plt\n",
    "plt.imshow(image_a, cmap='gray')\n",
    "plt.show()\n",
    "\n",
    "image_a = image_utils.img_to_array(image_a)\n",
    "image_a = image_a.reshape(1,28,28,1)\n",
    "image_a = image_a / 255"
   ]
  },
  {
   "cell_type": "code",
   "execution_count": null,
   "id": "5768df01",
   "metadata": {},
   "outputs": [],
   "source": [
    "prediction = model.predict(image_a)\n",
    "print(prediction)"
   ]
  },
  {
   "cell_type": "code",
   "execution_count": null,
   "id": "c981df84",
   "metadata": {},
   "outputs": [],
   "source": [
    "import numpy as np\n",
    "from tensorflow import keras\n",
    "from tensorflow.keras.preprocessing import image as image_utils\n",
    "\n",
    "alphabet = \"abcdefghiklmnopqrstuvwxy\"\n",
    "model = keras.models.load_model('asl_model') \n",
    "image_file=\"/var/DL_data/a.png\"\n",
    "\n",
    "def predict_letter(file):\n",
    "    image = image_utils.load_img(file, color_mode=\"grayscale\", target_size=(28,28))\n",
    "    image = image_utils.img_to_array(image)\n",
    "    image = image.reshape(1,28,28,1)\n",
    "    image = image / 255\n",
    "    prediction = model.predict(image)\n",
    "    predicted_letter = alphabet[np.argmax(prediction)]\n",
    "    return predicted_letter\n",
    "\n",
    "print(\"Prediction: \",predict_letter(image_file))"
   ]
  }
 ],
 "metadata": {
  "kernelspec": {
   "display_name": "Python 3 (ipykernel)",
   "language": "python",
   "name": "python3"
  },
  "language_info": {
   "codemirror_mode": {
    "name": "ipython",
    "version": 3
   },
   "file_extension": ".py",
   "mimetype": "text/x-python",
   "name": "python",
   "nbconvert_exporter": "python",
   "pygments_lexer": "ipython3",
   "version": "3.12.3"
  }
 },
 "nbformat": 4,
 "nbformat_minor": 5
}
