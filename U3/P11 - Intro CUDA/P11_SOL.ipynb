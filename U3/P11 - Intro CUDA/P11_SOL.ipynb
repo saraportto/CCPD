{
 "cells": [
  {
   "cell_type": "markdown",
   "id": "120f22b2",
   "metadata": {},
   "source": [
    "## Tema 11: Introducción a NVidia CUDA (soluciones)"
   ]
  },
  {
   "cell_type": "markdown",
   "id": "b735b711",
   "metadata": {},
   "source": [
    "## C - Kernels en CUDA\n",
    "__Ejercicio 1: crear un Kernel a partir de una función__"
   ]
  },
  {
   "cell_type": "code",
   "execution_count": null,
   "id": "cc57b13e",
   "metadata": {},
   "outputs": [],
   "source": [
    "import numpy as np\n",
    "from numba import cuda\n",
    "\n",
    "n = 1024*512\n",
    "\n",
    "def h_square(a):\n",
    "    return a**2\n",
    "\n",
    "@cuda.jit\n",
    "def d_square(a, a_squared):\n",
    "    idx = cuda.grid(1)\n",
    "    a_squared[idx] = a[idx]**2\n",
    "\n",
    "h_a = np.arange(n, dtype=np.float32)\n",
    "h_out = np.zeros_like(h_a) \n",
    "\n",
    "d_a = cuda.to_device(h_a)              \n",
    "d_out = cuda.device_array_like(h_a)\n",
    "blocks = 1024\n",
    "threads = 512\n",
    "d_square[blocks,threads](d_a,d_out)\n",
    "\n",
    "h_out = h_square(h_a)\n",
    "\n",
    "np.testing.assert_almost_equal(h_out, d_out.copy_to_host())"
   ]
  },
  {
   "cell_type": "code",
   "execution_count": null,
   "id": "9cd5ace4-ba5d-42d7-8db6-3976b46fb012",
   "metadata": {},
   "outputs": [],
   "source": [
    "%timeit h_square(h_a)\n",
    "%timeit d_square[blocks,threads](d_a,d_out)"
   ]
  },
  {
   "cell_type": "markdown",
   "id": "b4c54748-381b-4eec-8a64-4a20dd770118",
   "metadata": {},
   "source": [
    "## D - Uso de stride en Kernels CUDA\n",
    "\n",
    "__Ejercicio 2: kernel CUDA con stride__\n",
    "\n"
   ]
  },
  {
   "cell_type": "code",
   "execution_count": null,
   "id": "1e8c3de3-f842-4b9b-833d-d30ea08e47d9",
   "metadata": {},
   "outputs": [],
   "source": [
    "import numpy as np\n",
    "from math import hypot\n",
    "from numba import cuda\n",
    "\n",
    "def cpu_hypot(a,b):\n",
    "    return np.hypot(a,b)\n",
    "\n",
    "@cuda.jit\n",
    "def gpu_hypot_stride(a, b, c):\n",
    "    start = cuda.grid(1)\n",
    "    stride = cuda.gridsize(1)\n",
    "    for i in range(start, a.shape[0], stride):\n",
    "        c[i] = hypot(a[i], b[i])\n",
    "\n",
    "\n",
    "# No modificar las siguientes líneas\n",
    "n = 1000000\n",
    "h_a = np.random.uniform(-12, 12, n).astype(np.float32)\n",
    "h_b = np.random.uniform(-12, 12, n).astype(np.float32)\n",
    "d_a = cuda.to_device(h_a)\n",
    "d_b = cuda.to_device(h_b)\n",
    "d_c = cuda.device_array_like(d_b)\n",
    "\n",
    "blocks = 128\n",
    "threads_per_block = 64\n",
    "gpu_hypot_stride[blocks, threads_per_block](d_a, d_b, d_c)\n",
    "np.testing.assert_almost_equal(np.hypot(h_a, h_b), d_c.copy_to_host(), decimal=5)"
   ]
  },
  {
   "cell_type": "code",
   "execution_count": null,
   "id": "6ddc3529-3f4e-4ab1-9448-5f36803a8c1a",
   "metadata": {},
   "outputs": [],
   "source": [
    "%timeit cpu_hypot(h_a,h_b)\n",
    "%timeit gpu_hypot_stride[128, 64](d_a, d_b, d_c)"
   ]
  },
  {
   "cell_type": "markdown",
   "id": "328dd833-90d7-4f27-96b7-32d5961b2640",
   "metadata": {},
   "source": [
    "__Ejercicio 3: kernel bidimensional para procesar una imagen__"
   ]
  },
  {
   "cell_type": "code",
   "execution_count": null,
   "id": "311bdebd-41c6-48b7-bd75-e01f4090cc44",
   "metadata": {},
   "outputs": [],
   "source": [
    "# Necesitamos skimage\n",
    "# Instalar con\n",
    "#       conda install scikit-image\n",
    "\n",
    "import matplotlib.pyplot as plt\n",
    "from skimage import data, color\n",
    "import numpy as np\n",
    "\n",
    "@cuda.jit\n",
    "def blur(input, output):\n",
    "    x, y = cuda.grid(2)\n",
    "    if x>0 and y>0 and x<(input.shape[0]-1) and y<(input.shape[1]-1):\n",
    "        output[x][y] = 0.25*(input[x-1][y]+input[x+1][y]+input[x][y-1]+input[x][y+1])\n",
    "    else:\n",
    "        output[x][y] = input [x][y]\n",
    "\n",
    "blocks = (16, 16) # 2D grid\n",
    "threads_per_block = (32, 32)  # 2D block\n",
    "num_cycles = 100\n",
    "\n",
    "astronaut = (255.-color.rgb2gray(data.astronaut()))/255.0\n",
    "print(\"Image size: \",astronaut.shape)\n",
    "\n",
    "fig, ax = plt.subplots()\n",
    "im = ax.imshow(astronaut,  cmap='Greys')\n",
    "\n",
    "d_astronaut = cuda.to_device(astronaut)\n",
    "d_astronaut_blurred = cuda.device_array_like(d_astronaut)\n",
    "\n",
    "for _ in range(num_cycles):\n",
    "    blur[blocks, threads_per_block](d_astronaut, d_astronaut_blurred)\n",
    "    cuda.synchronize()\n",
    "    d_astronaut = d_astronaut_blurred\n",
    "astronaut_blurred = d_astronaut_blurred.copy_to_host()\n",
    "\n",
    "fig, ax = plt.subplots()\n",
    "im = ax.imshow(astronaut_blurred, cmap='Greys')"
   ]
  }
 ],
 "metadata": {
  "kernelspec": {
   "display_name": "Python 3 (ipykernel)",
   "language": "python",
   "name": "python3"
  },
  "language_info": {
   "codemirror_mode": {
    "name": "ipython",
    "version": 3
   },
   "file_extension": ".py",
   "mimetype": "text/x-python",
   "name": "python",
   "nbconvert_exporter": "python",
   "pygments_lexer": "ipython3",
   "version": "3.13.2"
  }
 },
 "nbformat": 4,
 "nbformat_minor": 5
}
