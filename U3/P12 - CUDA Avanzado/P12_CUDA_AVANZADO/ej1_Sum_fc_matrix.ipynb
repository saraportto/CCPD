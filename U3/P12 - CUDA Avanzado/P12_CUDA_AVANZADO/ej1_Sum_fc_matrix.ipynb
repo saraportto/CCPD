{
  "cells": [
    {
      "cell_type": "markdown",
      "id": "bce993b2",
      "metadata": {
        "id": "bce993b2"
      },
      "source": [
        "# Ejercicio 1 - Suma filas y columnas de matriz"
      ]
    },
    {
      "cell_type": "markdown",
      "id": "17782e1f",
      "metadata": {
        "id": "17782e1f"
      },
      "source": [
        "Partiendo del código suministrado:\n",
        "\n",
        "* Completar la función que suma las columnas de la matriz\n",
        "\n",
        "* Añadir la invocación del nuevo `kernel col_sum` y la comprobación de resultados\n",
        "\n",
        "* Comparar las prestaciones de la suma por filas y por columnas\n",
        "\n",
        "---"
      ]
    },
    {
      "cell_type": "code",
      "execution_count": null,
      "id": "xjkSHzwOFNwW",
      "metadata": {
        "colab": {
          "base_uri": "https://localhost:8080/"
        },
        "id": "xjkSHzwOFNwW",
        "outputId": "ebfad241-2bcc-4be2-bdad-8b059eb4676a"
      },
      "outputs": [
        {
          "name": "stdout",
          "output_type": "stream",
          "text": [
            "Requirement already satisfied: numpy in /usr/local/lib/python3.11/dist-packages (2.0.2)\n",
            "Requirement already satisfied: matplotlib in /usr/local/lib/python3.11/dist-packages (3.10.0)\n",
            "Requirement already satisfied: scikit-image in /usr/local/lib/python3.11/dist-packages (0.25.2)\n",
            "Requirement already satisfied: numba in /usr/local/lib/python3.11/dist-packages (0.60.0)\n",
            "Requirement already satisfied: cython in /usr/local/lib/python3.11/dist-packages (3.0.12)\n",
            "Requirement already satisfied: setuptools in /usr/local/lib/python3.11/dist-packages (75.2.0)\n",
            "Requirement already satisfied: contourpy>=1.0.1 in /usr/local/lib/python3.11/dist-packages (from matplotlib) (1.3.2)\n",
            "Requirement already satisfied: cycler>=0.10 in /usr/local/lib/python3.11/dist-packages (from matplotlib) (0.12.1)\n",
            "Requirement already satisfied: fonttools>=4.22.0 in /usr/local/lib/python3.11/dist-packages (from matplotlib) (4.57.0)\n",
            "Requirement already satisfied: kiwisolver>=1.3.1 in /usr/local/lib/python3.11/dist-packages (from matplotlib) (1.4.8)\n",
            "Requirement already satisfied: packaging>=20.0 in /usr/local/lib/python3.11/dist-packages (from matplotlib) (24.2)\n",
            "Requirement already satisfied: pillow>=8 in /usr/local/lib/python3.11/dist-packages (from matplotlib) (11.2.1)\n",
            "Requirement already satisfied: pyparsing>=2.3.1 in /usr/local/lib/python3.11/dist-packages (from matplotlib) (3.2.3)\n",
            "Requirement already satisfied: python-dateutil>=2.7 in /usr/local/lib/python3.11/dist-packages (from matplotlib) (2.9.0.post0)\n",
            "Requirement already satisfied: scipy>=1.11.4 in /usr/local/lib/python3.11/dist-packages (from scikit-image) (1.15.2)\n",
            "Requirement already satisfied: networkx>=3.0 in /usr/local/lib/python3.11/dist-packages (from scikit-image) (3.4.2)\n",
            "Requirement already satisfied: imageio!=2.35.0,>=2.33 in /usr/local/lib/python3.11/dist-packages (from scikit-image) (2.37.0)\n",
            "Requirement already satisfied: tifffile>=2022.8.12 in /usr/local/lib/python3.11/dist-packages (from scikit-image) (2025.3.30)\n",
            "Requirement already satisfied: lazy-loader>=0.4 in /usr/local/lib/python3.11/dist-packages (from scikit-image) (0.4)\n",
            "Requirement already satisfied: llvmlite<0.44,>=0.43.0dev0 in /usr/local/lib/python3.11/dist-packages (from numba) (0.43.0)\n",
            "Requirement already satisfied: six>=1.5 in /usr/local/lib/python3.11/dist-packages (from python-dateutil>=2.7->matplotlib) (1.17.0)\n"
          ]
        }
      ],
      "source": [
        "# Ejecutar en Google Colab\n",
        "!pip install numpy matplotlib scikit-image numba cython setuptools\n",
        "\n",
        "### EVITAR ERRORES\n",
        "\n",
        "!uv pip install -q --system numba-cuda==0.4.0\n",
        "\n",
        "from numba import config\n",
        "config.CUDA_ENABLE_PYNVJITLINK = 1"
      ]
    },
    {
      "cell_type": "code",
      "execution_count": null,
      "id": "9529a208",
      "metadata": {
        "colab": {
          "base_uri": "https://localhost:8080/"
        },
        "id": "9529a208",
        "outputId": "3bb65c98-252e-4494-c080-cfc61859cd30"
      },
      "outputs": [
        {
          "name": "stderr",
          "output_type": "stream",
          "text": [
            "/usr/local/lib/python3.11/dist-packages/numba_cuda/numba/cuda/dispatcher.py:605: NumbaPerformanceWarning: Grid size 64 will likely result in GPU under-utilization due to low occupancy.\n",
            "  warn(NumbaPerformanceWarning(msg))\n"
          ]
        },
        {
          "name": "stdout",
          "output_type": "stream",
          "text": [
            "\n",
            "Tiempo en CPU:\n",
            "3.83 µs ± 867 ns per loop (mean ± std. dev. of 7 runs, 100000 loops each)\n",
            "\n",
            "Tiempo en GPU:\n",
            "51.1 µs ± 1.72 µs per loop (mean ± std. dev. of 7 runs, 10000 loops each)\n"
          ]
        }
      ],
      "source": [
        "import numpy as np\n",
        "from numba import cuda\n",
        "\n",
        "@cuda.jit\n",
        "def row_sums(a, sums, n):\n",
        "    idx = cuda.grid(1)\n",
        "    sum = 0.0\n",
        "    for i in range(n):\n",
        "        sum += a[idx][i]\n",
        "    sums[idx] = sum\n",
        "\n",
        "# TODO: completar\n",
        "@cuda.jit\n",
        "def col_sums(a, sums, n):\n",
        "    None\n",
        "\n",
        "n = 32768 # matrix side size\n",
        "threads_per_block = 256\n",
        "blocks = int(n / threads_per_block)\n",
        "\n",
        "# Input Matrix\n",
        "h_a = np.ones(n*n).reshape(n, n).astype(np.float32) \n",
        "\n",
        "# Vectors in GPU\n",
        "d_a = cuda.to_device(h_a)\n",
        "d_sums = cuda.device_array(shape=(n,), dtype=np.float32)\n",
        "\n",
        "# Calcular suma de filas\n",
        "row_sums[blocks, threads_per_block](d_a, d_sums, n)\n",
        "h_sums = d_sums.copy_to_host()\n",
        "# Comprobar suma\n",
        "truth = h_a.sum(axis=1)\n",
        "np.testing.assert_equal(h_sums,truth)\n",
        "\n",
        "# TODO: calcular y comprobar suma de columnas"
      ]
    },
    {
      "cell_type": "markdown",
      "id": "ecb4ba68",
      "metadata": {},
      "source": [
        "### Sergio"
      ]
    },
    {
      "cell_type": "code",
      "execution_count": null,
      "id": "e62882d1",
      "metadata": {},
      "outputs": [],
      "source": [
        "import numpy as np\n",
        "from numba import cuda\n",
        "\n",
        "@cuda.jit\n",
        "def row_sums(a, sums, n):\n",
        "    idx = cuda.grid(1)\n",
        "    sum = 0.0\n",
        "    for i in range(n):\n",
        "        sum += a[idx][i]\n",
        "    sums[idx] = sum\n",
        "\n",
        "# TODO: completar\n",
        "@cuda.jit\n",
        "def col_sums(a, sums, n):\n",
        "    idx = cuda.grid(1)\n",
        "    sum = 0.0\n",
        "    for i in range(n):\n",
        "        sum += a[i][idx]\n",
        "    sums[idx] = sum\n",
        "\n",
        "n = 32768 # matrix side size\n",
        "threads_per_block = 256\n",
        "blocks = int(n / threads_per_block)\n",
        "\n",
        "# Input Matrix\n",
        "\n",
        "h_a = np.random.randint(low=1, high= 100, size=n*n).reshape(n, n).astype(np.float32) \n",
        "\n",
        "# Vectors in GPU\n",
        "d_a = cuda.to_device(h_a)\n",
        "d_sums = cuda.device_array(shape=(n,), dtype=np.float32)\n",
        "\n",
        "# Calcular suma de filas\n",
        "row_sums[blocks, threads_per_block](d_a, d_sums, n)\n",
        "h_sums = d_sums.copy_to_host()\n",
        "# Comprobar suma\n",
        "truth = h_a.sum(axis=1)\n",
        "np.testing.assert_equal(h_sums,truth)\n",
        "\n",
        "# TODO: calcular y comprobar suma de columnas\n",
        "d_sums = cuda.device_array(shape=(n,), dtype=np.float32)\n",
        "col_sums[blocks, threads_per_block](d_a, d_sums, n)\n",
        "h_sums = d_sums.copy_to_host()\n",
        "# Comprobar suma\n",
        "truth = h_a.sum(axis=0)\n",
        "np.testing.assert_equal(h_sums,truth)"
      ]
    },
    {
      "cell_type": "code",
      "execution_count": null,
      "id": "ce554d0c",
      "metadata": {},
      "outputs": [],
      "source": [
        "%timeit row_sums[blocks, threads_per_block](d_a, d_sums, n); cuda.synchronize()\n",
        "%timeit col_sums[blocks, threads_per_block](d_a , d_sums, n); cuda.synchronize()"
      ]
    }
  ],
  "metadata": {
    "accelerator": "GPU",
    "colab": {
      "gpuType": "T4",
      "provenance": []
    },
    "kernelspec": {
      "display_name": "python_env",
      "language": "python",
      "name": "python3"
    },
    "language_info": {
      "name": "python",
      "version": "3.11.11"
    }
  },
  "nbformat": 4,
  "nbformat_minor": 5
}
