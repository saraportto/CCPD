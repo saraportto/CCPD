{
 "cells": [
  {
   "cell_type": "markdown",
   "metadata": {},
   "source": [
    "# Ejercicio 1 - Suma filas y columnas de matriz"
   ]
  },
  {
   "cell_type": "markdown",
   "metadata": {},
   "source": [
    "Partiendo del código suministrado:\n",
    "\n",
    "* Completar la función que suma las columnas de la matriz\n",
    "\n",
    "* Añadir la invocación del nuevo `kernel col_sum` y la comprobación de resultados\n",
    "\n",
    "* Comparar las prestaciones de la suma por filas y por columnas\n",
    "\n",
    "---"
   ]
  },
  {
   "cell_type": "code",
   "execution_count": 1,
   "metadata": {
    "execution": {
     "iopub.execute_input": "2025-05-11T09:22:05.593340Z",
     "iopub.status.busy": "2025-05-11T09:22:05.593106Z",
     "iopub.status.idle": "2025-05-11T09:22:12.325462Z",
     "shell.execute_reply": "2025-05-11T09:22:12.324694Z",
     "shell.execute_reply.started": "2025-05-11T09:22:05.593316Z"
    },
    "trusted": true
   },
   "outputs": [
    {
     "name": "stdout",
     "output_type": "stream",
     "text": [
      "Requirement already satisfied: numpy in /usr/local/lib/python3.11/dist-packages (1.26.4)\n",
      "Requirement already satisfied: matplotlib in /usr/local/lib/python3.11/dist-packages (3.7.5)\n",
      "Requirement already satisfied: scikit-image in /usr/local/lib/python3.11/dist-packages (0.25.1)\n",
      "Requirement already satisfied: numba in /usr/local/lib/python3.11/dist-packages (0.60.0)\n",
      "Requirement already satisfied: cython in /usr/local/lib/python3.11/dist-packages (3.0.12)\n",
      "Requirement already satisfied: setuptools in /usr/local/lib/python3.11/dist-packages (75.1.0)\n",
      "Requirement already satisfied: mkl_fft in /usr/local/lib/python3.11/dist-packages (from numpy) (1.3.8)\n",
      "Requirement already satisfied: mkl_random in /usr/local/lib/python3.11/dist-packages (from numpy) (1.2.4)\n",
      "Requirement already satisfied: mkl_umath in /usr/local/lib/python3.11/dist-packages (from numpy) (0.1.1)\n",
      "Requirement already satisfied: mkl in /usr/local/lib/python3.11/dist-packages (from numpy) (2025.1.0)\n",
      "Requirement already satisfied: tbb4py in /usr/local/lib/python3.11/dist-packages (from numpy) (2022.1.0)\n",
      "Requirement already satisfied: mkl-service in /usr/local/lib/python3.11/dist-packages (from numpy) (2.4.1)\n",
      "Requirement already satisfied: contourpy>=1.0.1 in /usr/local/lib/python3.11/dist-packages (from matplotlib) (1.3.1)\n",
      "Requirement already satisfied: cycler>=0.10 in /usr/local/lib/python3.11/dist-packages (from matplotlib) (0.12.1)\n",
      "Requirement already satisfied: fonttools>=4.22.0 in /usr/local/lib/python3.11/dist-packages (from matplotlib) (4.56.0)\n",
      "Requirement already satisfied: kiwisolver>=1.0.1 in /usr/local/lib/python3.11/dist-packages (from matplotlib) (1.4.8)\n",
      "Requirement already satisfied: packaging>=20.0 in /usr/local/lib/python3.11/dist-packages (from matplotlib) (24.2)\n",
      "Requirement already satisfied: pillow>=6.2.0 in /usr/local/lib/python3.11/dist-packages (from matplotlib) (11.1.0)\n",
      "Requirement already satisfied: pyparsing>=2.3.1 in /usr/local/lib/python3.11/dist-packages (from matplotlib) (3.2.1)\n",
      "Requirement already satisfied: python-dateutil>=2.7 in /usr/local/lib/python3.11/dist-packages (from matplotlib) (2.9.0.post0)\n",
      "Requirement already satisfied: scipy>=1.11.2 in /usr/local/lib/python3.11/dist-packages (from scikit-image) (1.15.2)\n",
      "Requirement already satisfied: networkx>=3.0 in /usr/local/lib/python3.11/dist-packages (from scikit-image) (3.4.2)\n",
      "Requirement already satisfied: imageio!=2.35.0,>=2.33 in /usr/local/lib/python3.11/dist-packages (from scikit-image) (2.37.0)\n",
      "Requirement already satisfied: tifffile>=2022.8.12 in /usr/local/lib/python3.11/dist-packages (from scikit-image) (2025.1.10)\n",
      "Requirement already satisfied: lazy-loader>=0.4 in /usr/local/lib/python3.11/dist-packages (from scikit-image) (0.4)\n",
      "Requirement already satisfied: llvmlite<0.44,>=0.43.0dev0 in /usr/local/lib/python3.11/dist-packages (from numba) (0.43.0)\n",
      "Requirement already satisfied: six>=1.5 in /usr/local/lib/python3.11/dist-packages (from python-dateutil>=2.7->matplotlib) (1.17.0)\n",
      "Requirement already satisfied: intel-openmp<2026,>=2024 in /usr/local/lib/python3.11/dist-packages (from mkl->numpy) (2024.2.0)\n",
      "Requirement already satisfied: tbb==2022.* in /usr/local/lib/python3.11/dist-packages (from mkl->numpy) (2022.1.0)\n",
      "Requirement already satisfied: tcmlib==1.* in /usr/local/lib/python3.11/dist-packages (from tbb==2022.*->mkl->numpy) (1.2.0)\n",
      "Requirement already satisfied: intel-cmplr-lib-rt in /usr/local/lib/python3.11/dist-packages (from mkl_umath->numpy) (2024.2.0)\n",
      "Requirement already satisfied: intel-cmplr-lib-ur==2024.2.0 in /usr/local/lib/python3.11/dist-packages (from intel-openmp<2026,>=2024->mkl->numpy) (2024.2.0)\n"
     ]
    }
   ],
   "source": [
    "# Ejecutar en Google Colab\n",
    "!pip install numpy matplotlib scikit-image numba cython setuptools\n",
    "\n",
    "### EVITAR ERRORES\n",
    "\n",
    "!uv pip install -q --system numba-cuda==0.4.0\n",
    "\n",
    "from numba import config\n",
    "config.CUDA_ENABLE_PYNVJITLINK = 1"
   ]
  },
  {
   "cell_type": "code",
   "execution_count": 2,
   "metadata": {
    "execution": {
     "iopub.execute_input": "2025-05-11T09:22:17.271675Z",
     "iopub.status.busy": "2025-05-11T09:22:17.271096Z",
     "iopub.status.idle": "2025-05-11T09:22:41.834759Z",
     "shell.execute_reply": "2025-05-11T09:22:41.833998Z",
     "shell.execute_reply.started": "2025-05-11T09:22:17.271646Z"
    },
    "trusted": true
   },
   "outputs": [
    {
     "name": "stdout",
     "output_type": "stream",
     "text": [
      "\n",
      "Tiempo en CPU - suma filas:\n",
      "487 ms ± 9.77 ms per loop (mean ± std. dev. of 7 runs, 1 loop each)\n",
      "\n",
      "Tiempo en GPU - suma filas:\n",
      "63.7 ms ± 55.9 µs per loop (mean ± std. dev. of 7 runs, 10 loops each)\n",
      "\n",
      "Tiempo en CPU - suma columnas:\n",
      "665 ms ± 9.66 ms per loop (mean ± std. dev. of 7 runs, 1 loop each)\n",
      "\n",
      "Tiempo en GPU - suma columnas:\n",
      "28.4 ms ± 59.6 µs per loop (mean ± std. dev. of 7 runs, 10 loops each)\n"
     ]
    }
   ],
   "source": [
    "import numpy as np\n",
    "from numba import cuda\n",
    "\n",
    "# ----------------------------------------------------------- #\n",
    "\n",
    "# KERNEL SUMA FILAS\n",
    "@cuda.jit\n",
    "def row_sums(a, sums, n):\n",
    "    idx = cuda.grid(1)\n",
    "    sum = 0.0\n",
    "    for i in range(n):\n",
    "        sum += a[idx][i]\n",
    "    sums[idx] = sum\n",
    "\n",
    "# KERNEL SUMA COLUMNAS\n",
    "@cuda.jit\n",
    "def col_sums(a, sums, n):\n",
    "    idx = cuda.grid(1)\n",
    "    sum = 0.0\n",
    "    for i in range(n):\n",
    "        sum += a[i][idx]\n",
    "    sums[idx] = sum\n",
    "\n",
    "# ----------------------------------------------------------- #\n",
    "\n",
    "# PARÁMETROS\n",
    "n = 32768 # tamaño del lado de la matriz\n",
    "threads_per_block = 256 # hilos\n",
    "blocks = int(n / threads_per_block) # bloques\n",
    "\n",
    "# ----------------------------------------------------------- #\n",
    "\n",
    "# VARIABLES CPU\n",
    "h_a = np.ones(n*n).reshape(n, n).astype(np.float32)\n",
    "\n",
    "# VARIABLES GPU\n",
    "d_a = cuda.to_device(h_a)\n",
    "d_sum_rows = cuda.device_array(shape=(n,), dtype=np.float32) # para suma filas\n",
    "d_sum_cols = cuda.device_array(shape=(n,), dtype=np.float32) # para suma cols\n",
    "\n",
    "# ----------------------------------------------------------- #\n",
    "\n",
    "# LANZA KERNEL - suma filas\n",
    "row_sums[blocks, threads_per_block](d_a, d_sum_rows, n) # calcula suma de filas\n",
    "h_sum_rows = d_sum_rows.copy_to_host() # pasa resultado a GPU\n",
    "\n",
    "# COMPROBACIÓN - suma filas\n",
    "suma_rows_truth = h_a.sum(axis=1) # suma filas real\n",
    "np.testing.assert_equal(h_sum_rows,suma_rows_truth)\n",
    "\n",
    "# MEDICIÓN - suma fias\n",
    "# cpu\n",
    "print(\"\\nTiempo en CPU - suma filas:\")\n",
    "%timeit h_a.sum(axis=1)\n",
    "\n",
    "# gpu\n",
    "print(\"\\nTiempo en GPU - suma filas:\")\n",
    "%timeit row_sums[blocks, threads_per_block](d_a, d_sum_rows, n); cuda.synchronize()\n",
    "\n",
    "# ----------------------------------------------------------- #\n",
    "\n",
    "# LANZA KERNEL - suma cols\n",
    "col_sums[blocks, threads_per_block](d_a, d_sum_cols, n) # calcula suma de columnas\n",
    "h_sum_cols = d_sum_cols.copy_to_host() # pasa resultado a GPU\n",
    "\n",
    "# COMPROBACIÓN - suma cols\n",
    "suma_cols_truth = h_a.sum(axis=0) # suma columnas real\n",
    "np.testing.assert_equal(h_sum_rows,suma_cols_truth)\n",
    "\n",
    "# MEDICIÓN - suma cols\n",
    "# cpu\n",
    "print(\"\\nTiempo en CPU - suma columnas:\")\n",
    "%timeit h_a.sum(axis=0)\n",
    "\n",
    "# gpu\n",
    "print(\"\\nTiempo en GPU - suma columnas:\")\n",
    "%timeit col_sums[blocks, threads_per_block](d_a, d_sum_cols, n); cuda.synchronize()\n"
   ]
  }
 ],
 "metadata": {
  "kaggle": {
   "accelerator": "nvidiaTeslaT4",
   "dataSources": [],
   "dockerImageVersionId": 31011,
   "isGpuEnabled": true,
   "isInternetEnabled": true,
   "language": "python",
   "sourceType": "notebook"
  },
  "kernelspec": {
   "display_name": "Python 3",
   "language": "python",
   "name": "python3"
  },
  "language_info": {
   "codemirror_mode": {
    "name": "ipython",
    "version": 3
   },
   "file_extension": ".py",
   "mimetype": "text/x-python",
   "name": "python",
   "nbconvert_exporter": "python",
   "pygments_lexer": "ipython3",
   "version": "3.11.11"
  }
 },
 "nbformat": 4,
 "nbformat_minor": 4
}
