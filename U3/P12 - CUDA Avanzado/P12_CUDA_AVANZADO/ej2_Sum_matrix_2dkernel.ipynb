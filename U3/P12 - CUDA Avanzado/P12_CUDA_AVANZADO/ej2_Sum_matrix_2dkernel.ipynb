{
 "cells": [
  {
   "cell_type": "markdown",
   "metadata": {},
   "source": [
    "# Ejercicio 2 - Sumar matrices con kernel 2D"
   ]
  },
  {
   "cell_type": "markdown",
   "metadata": {},
   "source": [
    "Partiendo del código suministrado:\n",
    "\n",
    "* Completar los fragmentos indicados con `TODO` \n",
    "\n",
    "\n",
    "\n",
    "Sugerencias\n",
    "\n",
    "1. Completar el kernel normalmente\n",
    "\n",
    "2. Implementar dos versiones con acceso recorriendo filas y columnas y usar la variable booleana coalesced para poder elegir entre las dos\n",
    "\n",
    "3. Comparar los tiempos de ejecución\n",
    "\n",
    "4. El acceso es coalescente ¿por filas o por columnas?\n",
    "\n",
    "\n",
    "---"
   ]
  },
  {
   "cell_type": "code",
   "execution_count": 1,
   "metadata": {
    "execution": {
     "iopub.execute_input": "2025-05-11T09:40:55.511884Z",
     "iopub.status.busy": "2025-05-11T09:40:55.511643Z",
     "iopub.status.idle": "2025-05-11T09:41:02.854272Z",
     "shell.execute_reply": "2025-05-11T09:41:02.853602Z",
     "shell.execute_reply.started": "2025-05-11T09:40:55.511866Z"
    },
    "trusted": true
   },
   "outputs": [
    {
     "name": "stdout",
     "output_type": "stream",
     "text": [
      "Requirement already satisfied: numpy in /usr/local/lib/python3.11/dist-packages (1.26.4)\n",
      "Requirement already satisfied: matplotlib in /usr/local/lib/python3.11/dist-packages (3.7.5)\n",
      "Requirement already satisfied: scikit-image in /usr/local/lib/python3.11/dist-packages (0.25.1)\n",
      "Requirement already satisfied: numba in /usr/local/lib/python3.11/dist-packages (0.60.0)\n",
      "Requirement already satisfied: cython in /usr/local/lib/python3.11/dist-packages (3.0.12)\n",
      "Requirement already satisfied: setuptools in /usr/local/lib/python3.11/dist-packages (75.1.0)\n",
      "Requirement already satisfied: mkl_fft in /usr/local/lib/python3.11/dist-packages (from numpy) (1.3.8)\n",
      "Requirement already satisfied: mkl_random in /usr/local/lib/python3.11/dist-packages (from numpy) (1.2.4)\n",
      "Requirement already satisfied: mkl_umath in /usr/local/lib/python3.11/dist-packages (from numpy) (0.1.1)\n",
      "Requirement already satisfied: mkl in /usr/local/lib/python3.11/dist-packages (from numpy) (2025.1.0)\n",
      "Requirement already satisfied: tbb4py in /usr/local/lib/python3.11/dist-packages (from numpy) (2022.1.0)\n",
      "Requirement already satisfied: mkl-service in /usr/local/lib/python3.11/dist-packages (from numpy) (2.4.1)\n",
      "Requirement already satisfied: contourpy>=1.0.1 in /usr/local/lib/python3.11/dist-packages (from matplotlib) (1.3.1)\n",
      "Requirement already satisfied: cycler>=0.10 in /usr/local/lib/python3.11/dist-packages (from matplotlib) (0.12.1)\n",
      "Requirement already satisfied: fonttools>=4.22.0 in /usr/local/lib/python3.11/dist-packages (from matplotlib) (4.56.0)\n",
      "Requirement already satisfied: kiwisolver>=1.0.1 in /usr/local/lib/python3.11/dist-packages (from matplotlib) (1.4.8)\n",
      "Requirement already satisfied: packaging>=20.0 in /usr/local/lib/python3.11/dist-packages (from matplotlib) (24.2)\n",
      "Requirement already satisfied: pillow>=6.2.0 in /usr/local/lib/python3.11/dist-packages (from matplotlib) (11.1.0)\n",
      "Requirement already satisfied: pyparsing>=2.3.1 in /usr/local/lib/python3.11/dist-packages (from matplotlib) (3.2.1)\n",
      "Requirement already satisfied: python-dateutil>=2.7 in /usr/local/lib/python3.11/dist-packages (from matplotlib) (2.9.0.post0)\n",
      "Requirement already satisfied: scipy>=1.11.2 in /usr/local/lib/python3.11/dist-packages (from scikit-image) (1.15.2)\n",
      "Requirement already satisfied: networkx>=3.0 in /usr/local/lib/python3.11/dist-packages (from scikit-image) (3.4.2)\n",
      "Requirement already satisfied: imageio!=2.35.0,>=2.33 in /usr/local/lib/python3.11/dist-packages (from scikit-image) (2.37.0)\n",
      "Requirement already satisfied: tifffile>=2022.8.12 in /usr/local/lib/python3.11/dist-packages (from scikit-image) (2025.1.10)\n",
      "Requirement already satisfied: lazy-loader>=0.4 in /usr/local/lib/python3.11/dist-packages (from scikit-image) (0.4)\n",
      "Requirement already satisfied: llvmlite<0.44,>=0.43.0dev0 in /usr/local/lib/python3.11/dist-packages (from numba) (0.43.0)\n",
      "Requirement already satisfied: six>=1.5 in /usr/local/lib/python3.11/dist-packages (from python-dateutil>=2.7->matplotlib) (1.17.0)\n",
      "Requirement already satisfied: intel-openmp<2026,>=2024 in /usr/local/lib/python3.11/dist-packages (from mkl->numpy) (2024.2.0)\n",
      "Requirement already satisfied: tbb==2022.* in /usr/local/lib/python3.11/dist-packages (from mkl->numpy) (2022.1.0)\n",
      "Requirement already satisfied: tcmlib==1.* in /usr/local/lib/python3.11/dist-packages (from tbb==2022.*->mkl->numpy) (1.2.0)\n",
      "Requirement already satisfied: intel-cmplr-lib-rt in /usr/local/lib/python3.11/dist-packages (from mkl_umath->numpy) (2024.2.0)\n",
      "Requirement already satisfied: intel-cmplr-lib-ur==2024.2.0 in /usr/local/lib/python3.11/dist-packages (from intel-openmp<2026,>=2024->mkl->numpy) (2024.2.0)\n"
     ]
    }
   ],
   "source": [
    "# Ejecutar en Google Colab\n",
    "!pip install numpy matplotlib scikit-image numba cython setuptools\n",
    "\n",
    "### EVITAR ERRORES\n",
    "\n",
    "!uv pip install -q --system numba-cuda==0.4.0\n",
    "\n",
    "from numba import config\n",
    "config.CUDA_ENABLE_PYNVJITLINK = 1"
   ]
  },
  {
   "cell_type": "code",
   "execution_count": null,
   "metadata": {
    "execution": {
     "iopub.execute_input": "2025-05-11T09:44:41.613044Z",
     "iopub.status.busy": "2025-05-11T09:44:41.612750Z",
     "iopub.status.idle": "2025-05-11T09:45:02.124250Z",
     "shell.execute_reply": "2025-05-11T09:45:02.123484Z",
     "shell.execute_reply.started": "2025-05-11T09:44:41.613021Z"
    },
    "trusted": true
   },
   "outputs": [
    {
     "name": "stdout",
     "output_type": "stream",
     "text": [
      "\n",
      "Tiempo en CPU:\n",
      "13 ms ± 374 µs per loop (mean ± std. dev. of 7 runs, 100 loops each)\n",
      "\n",
      "Tiempo en GPU - acceso no coalescente:\n",
      "2.55 ms ± 7.72 µs per loop (mean ± std. dev. of 7 runs, 100 loops each)\n",
      "\n",
      "Tiempo en GPU - acceso coalescente:\n",
      "863 µs ± 1.6 µs per loop (mean ± std. dev. of 7 runs, 1000 loops each)\n"
     ]
    }
   ],
   "source": [
    "import numpy as np\n",
    "from numba import cuda\n",
    "\n",
    "n = 4096\n",
    "\n",
    "# KERNEL que suma dos matrices\n",
    "@cuda.jit\n",
    "def matrix_add(a, b, out, coalesced):\n",
    "    x, y = cuda.grid(2)\n",
    "\n",
    "    if coalesced: # acceso COALESCENTE\n",
    "        out[y][x] = a[y][x] + b[y][x]\n",
    "\n",
    "    else: # acceso NO COALESCENTE\n",
    "        out[x][y] = a[x][y] + b[x][y]\n",
    "\n",
    "# PARÁMETROS\n",
    "threads_per_block = (32, 32)  # 2D block\n",
    "blocks = (128, 128) # 2D grid\n",
    "\n",
    "# VARIABLES en CPU\n",
    "h_a = np.arange(n*n).reshape(n,n).astype(np.float32)\n",
    "h_b = h_a.copy().astype(np.float32)\n",
    "\n",
    "# VARIABLES en GPU\n",
    "d_a = cuda.to_device(h_a)\n",
    "d_b = cuda.to_device(h_b)\n",
    "d_out_no_coalesced = cuda.device_array_like(h_a)\n",
    "d_out_coalesced = cuda.device_array_like(h_a)\n",
    "\n",
    "# LANZA KERNEL - acceso no coalescente\n",
    "matrix_add[blocks, threads_per_block](d_a, d_b, d_out_no_coalesced, False)\n",
    "h_out_no_coalesced = d_out_no_coalesced.copy_to_host() # resultado a CPU\n",
    "\n",
    "# LANZA KERNEL - acceso coalescente\n",
    "matrix_add[blocks, threads_per_block](d_a, d_b, d_out_coalesced, True)\n",
    "h_out_coalesced = d_out_coalesced.copy_to_host() # resultado a CPU\n",
    "\n",
    "# COMPROBACIÓN\n",
    "truth = h_a+h_b\n",
    "np.testing.assert_equal(h_out_no_coalesced, truth)\n",
    "np.testing.assert_equal(h_out_coalesced, truth)\n",
    "\n",
    "# MEDICIÓN - acceso coalescente\n",
    "# cpu\n",
    "print(\"\\nTiempo en CPU:\")\n",
    "%timeit h_a+h_b\n",
    "\n",
    "# gpu no coalescente\n",
    "print(\"\\nTiempo en GPU - acceso no coalescente:\")\n",
    "%timeit matrix_add[blocks, threads_per_block](d_a, d_b, d_out_no_coalesced, False); cuda.synchronize()\n",
    "\n",
    "# gpu coalescente\n",
    "print(\"\\nTiempo en GPU - acceso coalescente:\")\n",
    "%timeit matrix_add[blocks, threads_per_block](d_a, d_b, d_out_coalesced, True); cuda.synchronize()"
   ]
  }
 ],
 "metadata": {
  "kaggle": {
   "accelerator": "nvidiaTeslaT4",
   "dataSources": [],
   "dockerImageVersionId": 31011,
   "isGpuEnabled": true,
   "isInternetEnabled": true,
   "language": "python",
   "sourceType": "notebook"
  },
  "kernelspec": {
   "display_name": "Python 3",
   "language": "python",
   "name": "python3"
  },
  "language_info": {
   "codemirror_mode": {
    "name": "ipython",
    "version": 3
   },
   "file_extension": ".py",
   "mimetype": "text/x-python",
   "name": "python",
   "nbconvert_exporter": "python",
   "pygments_lexer": "ipython3",
   "version": "3.11.11"
  }
 },
 "nbformat": 4,
 "nbformat_minor": 4
}
