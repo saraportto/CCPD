{
  "cells": [
    {
      "cell_type": "markdown",
      "id": "bce993b2",
      "metadata": {
        "id": "bce993b2"
      },
      "source": [
        "# Ejercicio 2 - Sumar matrices con kernel 2D"
      ]
    },
    {
      "cell_type": "markdown",
      "id": "17782e1f",
      "metadata": {
        "id": "17782e1f"
      },
      "source": [
        "Partiendo del código suministrado:\n",
        "\n",
        "* Completar los fragmentos indicados con `TODO` \n",
        "\n",
        "\n",
        "\n",
        "Sugerencias\n",
        "\n",
        "1. Completar el kernel normalmente\n",
        "\n",
        "2. Implementar dos versiones con acceso recorriendo filas y columnas y usar la variable booleana coalesced para poder elegir entre las dos\n",
        "\n",
        "3. Comparar los tiempos de ejecución\n",
        "\n",
        "4. El acceso es coalescente ¿por filas o por columnas?\n",
        "\n",
        "\n",
        "---"
      ]
    },
    {
      "cell_type": "code",
      "execution_count": null,
      "id": "xjkSHzwOFNwW",
      "metadata": {
        "colab": {
          "base_uri": "https://localhost:8080/"
        },
        "id": "xjkSHzwOFNwW",
        "outputId": "ebfad241-2bcc-4be2-bdad-8b059eb4676a"
      },
      "outputs": [],
      "source": [
        "# Ejecutar en Google Colab\n",
        "!pip install numpy matplotlib scikit-image numba cython setuptools\n",
        "\n",
        "### EVITAR ERRORES\n",
        "\n",
        "!uv pip install -q --system numba-cuda==0.4.0\n",
        "\n",
        "from numba import config\n",
        "config.CUDA_ENABLE_PYNVJITLINK = 1"
      ]
    },
    {
      "cell_type": "code",
      "execution_count": null,
      "id": "9529a208",
      "metadata": {
        "colab": {
          "base_uri": "https://localhost:8080/"
        },
        "id": "9529a208",
        "outputId": "3bb65c98-252e-4494-c080-cfc61859cd30"
      },
      "outputs": [],
      "source": [
        "import numpy as np\n",
        "from numba import cuda\n",
        "\n",
        "n = 4096\n",
        "\n",
        "# TODO: completar\n",
        "@cuda.jit\n",
        "def matrix_add(a, b, out, coalesced):\n",
        "    None\n",
        "\n",
        "threads_per_block = (32, 32)  # 2D block\n",
        "blocks = (128, 128) # 2D grid\n",
        "\n",
        "h_a = np.arange(n*n).reshape(n,n).astype(np.float32)\n",
        "h_b = h_a.copy().astype(np.float32)\n",
        "\n",
        "# TODO: copia a la GPU y reserva para la salida\n",
        "\n",
        "# TODO: invocación kernel y obtención resultados\n",
        "truth = h_a+h_b\n",
        "np.testing.assert_equal(h_out, truth)"
      ]
    },
    {
      "cell_type": "markdown",
      "id": "589afe65",
      "metadata": {},
      "source": [
        "### Sergio"
      ]
    },
    {
      "cell_type": "code",
      "execution_count": null,
      "id": "607e8a3b",
      "metadata": {},
      "outputs": [],
      "source": [
        "import numpy as np\n",
        "from numba import cuda\n",
        "\n",
        "n = 4096\n",
        "\n",
        "# TODO: completar\n",
        "@cuda.jit\n",
        "def matrix_add(a, b, out, coalesced):\n",
        "    x, y = cuda.grid(2)\n",
        "    if coalesced:\n",
        "        out[y][x] = a[y][x] + b[y][x]\n",
        "    else:\n",
        "        out[x][y] = a[x][y] + b[x][y]\n",
        "        \n",
        "\n",
        "threads_per_block = (32, 32)  # 2D block\n",
        "blocks = (128, 128) # 2D grid\n",
        "\n",
        "h_a = np.arange(n*n).reshape(n,n).astype(np.float32)\n",
        "h_b = h_a.copy().astype(np.float32)\n",
        "\n",
        "# TODO: copia a la GPU y reserva para la salida\n",
        "d_a = cuda.to_device(h_a)\n",
        "d_b = cuda.to_device(h_b)\n",
        "d_out = cuda.device_array(shape=(n,n), dtype=np.float32)\n",
        "\n",
        "# TODO: invocación kernel y obtención resultados\n",
        "matrix_add[blocks, threads_per_block](d_a, d_b, d_out, False)\n",
        "h_out = d_out.copy_to_host()\n",
        "truth = h_a+h_b\n",
        "np.testing.assert_equal(h_out, truth)"
      ]
    },
    {
      "cell_type": "code",
      "execution_count": null,
      "id": "07b81577",
      "metadata": {},
      "outputs": [],
      "source": [
        "%timeit matrix_add[blocks, threads_per_block](d_a, d_b, d_out, False); cuda.synchronize()\n",
        "%timeit matrix_add[blocks, threads_per_block](d_a, d_b, d_out, True); cuda.synchronize()"
      ]
    }
  ],
  "metadata": {
    "accelerator": "GPU",
    "colab": {
      "gpuType": "T4",
      "provenance": []
    },
    "kernelspec": {
      "display_name": "python_env",
      "language": "python",
      "name": "python3"
    },
    "language_info": {
      "name": "python",
      "version": "3.11.11"
    }
  },
  "nbformat": 4,
  "nbformat_minor": 5
}
