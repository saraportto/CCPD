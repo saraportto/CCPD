{
  "cells": [
    {
      "cell_type": "markdown",
      "id": "bce993b2",
      "metadata": {
        "id": "bce993b2"
      },
      "source": [
        "# Ejercicio 4 - Evitar conflictos en acceso a bancos de memoria compartida"
      ]
    },
    {
      "cell_type": "markdown",
      "id": "17782e1f",
      "metadata": {
        "id": "17782e1f"
      },
      "source": [
        "Partiendo del fichero modificado en el apartado anterior:\n",
        "\n",
        "* Copiar el kernel `tile_traspose()` en `tile_transpose2()`\n",
        "* Modificar el kernel `tile_transpose2()` para evitar conflictos en acceso a bancos de memoria compartida\n",
        "* Comparar las prestaciones de los tres kernels"
      ]
    },
    {
      "cell_type": "code",
      "execution_count": null,
      "id": "xjkSHzwOFNwW",
      "metadata": {
        "colab": {
          "base_uri": "https://localhost:8080/"
        },
        "id": "xjkSHzwOFNwW",
        "outputId": "ebfad241-2bcc-4be2-bdad-8b059eb4676a"
      },
      "outputs": [],
      "source": [
        "# Ejecutar en Google Colab\n",
        "!pip install numpy matplotlib scikit-image numba cython setuptools\n",
        "\n",
        "### EVITAR ERRORES\n",
        "\n",
        "!uv pip install -q --system numba-cuda==0.4.0\n",
        "\n",
        "from numba import config\n",
        "config.CUDA_ENABLE_PYNVJITLINK = 1"
      ]
    },
    {
      "cell_type": "code",
      "execution_count": null,
      "id": "9529a208",
      "metadata": {
        "colab": {
          "base_uri": "https://localhost:8080/"
        },
        "id": "9529a208",
        "outputId": "3bb65c98-252e-4494-c080-cfc61859cd30"
      },
      "outputs": [],
      "source": [
        "pass"
      ]
    },
    {
      "cell_type": "markdown",
      "id": "fe184824",
      "metadata": {},
      "source": [
        "### Sergio"
      ]
    },
    {
      "cell_type": "code",
      "execution_count": null,
      "id": "c3b1e42b",
      "metadata": {},
      "outputs": [],
      "source": [
        "pass"
      ]
    }
  ],
  "metadata": {
    "accelerator": "GPU",
    "colab": {
      "gpuType": "T4",
      "provenance": []
    },
    "kernelspec": {
      "display_name": "python_env",
      "language": "python",
      "name": "python3"
    },
    "language_info": {
      "name": "python",
      "version": "3.11.11"
    }
  },
  "nbformat": 4,
  "nbformat_minor": 5
}
