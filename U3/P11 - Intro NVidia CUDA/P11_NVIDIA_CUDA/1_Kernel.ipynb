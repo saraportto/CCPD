{
  "cells": [
    {
      "cell_type": "markdown",
      "id": "bce993b2",
      "metadata": {
        "id": "bce993b2"
      },
      "source": [
        "# Ejercicio 1 - Crear un kernel a partir de una función"
      ]
    },
    {
      "cell_type": "markdown",
      "id": "17782e1f",
      "metadata": {
        "id": "17782e1f"
      },
      "source": [
        "Partiendo del código suministrado, modificarlo para realizar el cálculo en la GPU.\n",
        "\n",
        "---"
      ]
    },
    {
      "cell_type": "code",
      "execution_count": 9,
      "id": "xjkSHzwOFNwW",
      "metadata": {
        "colab": {
          "base_uri": "https://localhost:8080/"
        },
        "id": "xjkSHzwOFNwW",
        "outputId": "ebfad241-2bcc-4be2-bdad-8b059eb4676a"
      },
      "outputs": [
        {
          "name": "stdout",
          "output_type": "stream",
          "text": [
            "Requirement already satisfied: numpy in /usr/local/lib/python3.11/dist-packages (2.0.2)\n",
            "Requirement already satisfied: matplotlib in /usr/local/lib/python3.11/dist-packages (3.10.0)\n",
            "Requirement already satisfied: scikit-image in /usr/local/lib/python3.11/dist-packages (0.25.2)\n",
            "Requirement already satisfied: numba in /usr/local/lib/python3.11/dist-packages (0.60.0)\n",
            "Requirement already satisfied: cython in /usr/local/lib/python3.11/dist-packages (3.0.12)\n",
            "Requirement already satisfied: setuptools in /usr/local/lib/python3.11/dist-packages (75.2.0)\n",
            "Requirement already satisfied: contourpy>=1.0.1 in /usr/local/lib/python3.11/dist-packages (from matplotlib) (1.3.2)\n",
            "Requirement already satisfied: cycler>=0.10 in /usr/local/lib/python3.11/dist-packages (from matplotlib) (0.12.1)\n",
            "Requirement already satisfied: fonttools>=4.22.0 in /usr/local/lib/python3.11/dist-packages (from matplotlib) (4.57.0)\n",
            "Requirement already satisfied: kiwisolver>=1.3.1 in /usr/local/lib/python3.11/dist-packages (from matplotlib) (1.4.8)\n",
            "Requirement already satisfied: packaging>=20.0 in /usr/local/lib/python3.11/dist-packages (from matplotlib) (24.2)\n",
            "Requirement already satisfied: pillow>=8 in /usr/local/lib/python3.11/dist-packages (from matplotlib) (11.2.1)\n",
            "Requirement already satisfied: pyparsing>=2.3.1 in /usr/local/lib/python3.11/dist-packages (from matplotlib) (3.2.3)\n",
            "Requirement already satisfied: python-dateutil>=2.7 in /usr/local/lib/python3.11/dist-packages (from matplotlib) (2.9.0.post0)\n",
            "Requirement already satisfied: scipy>=1.11.4 in /usr/local/lib/python3.11/dist-packages (from scikit-image) (1.15.2)\n",
            "Requirement already satisfied: networkx>=3.0 in /usr/local/lib/python3.11/dist-packages (from scikit-image) (3.4.2)\n",
            "Requirement already satisfied: imageio!=2.35.0,>=2.33 in /usr/local/lib/python3.11/dist-packages (from scikit-image) (2.37.0)\n",
            "Requirement already satisfied: tifffile>=2022.8.12 in /usr/local/lib/python3.11/dist-packages (from scikit-image) (2025.3.30)\n",
            "Requirement already satisfied: lazy-loader>=0.4 in /usr/local/lib/python3.11/dist-packages (from scikit-image) (0.4)\n",
            "Requirement already satisfied: llvmlite<0.44,>=0.43.0dev0 in /usr/local/lib/python3.11/dist-packages (from numba) (0.43.0)\n",
            "Requirement already satisfied: six>=1.5 in /usr/local/lib/python3.11/dist-packages (from python-dateutil>=2.7->matplotlib) (1.17.0)\n"
          ]
        }
      ],
      "source": [
        "# Ejecutar en Google Colab\n",
        "!pip install numpy matplotlib scikit-image numba cython setuptools"
      ]
    },
    {
      "cell_type": "code",
      "execution_count": 10,
      "id": "dc5c196b",
      "metadata": {
        "id": "dc5c196b"
      },
      "outputs": [],
      "source": [
        "### EVITAR ERRORES\n",
        "\n",
        "!uv pip install -q --system numba-cuda==0.4.0\n",
        "\n",
        "from numba import config\n",
        "config.CUDA_ENABLE_PYNVJITLINK = 1"
      ]
    },
    {
      "cell_type": "code",
      "execution_count": 24,
      "id": "9529a208",
      "metadata": {
        "colab": {
          "base_uri": "https://localhost:8080/"
        },
        "id": "9529a208",
        "outputId": "3bb65c98-252e-4494-c080-cfc61859cd30"
      },
      "outputs": [
        {
          "name": "stderr",
          "output_type": "stream",
          "text": [
            "/usr/local/lib/python3.11/dist-packages/numba_cuda/numba/cuda/dispatcher.py:605: NumbaPerformanceWarning: Grid size 64 will likely result in GPU under-utilization due to low occupancy.\n",
            "  warn(NumbaPerformanceWarning(msg))\n"
          ]
        },
        {
          "name": "stdout",
          "output_type": "stream",
          "text": [
            "\n",
            "Tiempo en CPU:\n",
            "3.83 µs ± 867 ns per loop (mean ± std. dev. of 7 runs, 100000 loops each)\n",
            "\n",
            "Tiempo en GPU:\n",
            "51.1 µs ± 1.72 µs per loop (mean ± std. dev. of 7 runs, 10000 loops each)\n"
          ]
        }
      ],
      "source": [
        "import numpy as np\n",
        "from numba import cuda\n",
        "\n",
        "n = 16384 # nº etos\n",
        "\n",
        "# En CPU\n",
        "def h_square(a):\n",
        "    return a**2\n",
        "\n",
        "# En GPU\n",
        "@cuda.jit # para aprovechar el paralelismo\n",
        "def d_square(d_a, d_out):\n",
        "    idx = cuda.grid(1) # coger índice de cada hilo (1 dimensión)\n",
        "    d_out[idx] = d_a[idx]**2 # poner en cuadrado el elemento del array\n",
        "\n",
        "# Array CPU\n",
        "a = np.arange(n, dtype=np.float32)\n",
        "\n",
        "# Vbles GPU\n",
        "d_a = cuda.to_device(a) # copia `a` a gpu\n",
        "d_out = cuda.device_array_like(d_a) # guarda espaico en memoria para la solución\n",
        "\n",
        "# Bloques e hilos (blocks*threads=n)\n",
        "threads = 256 # MÚLTIPLO DE 32!!! (warps)\n",
        "blocks = int(n//threads) # para que el total de n (blocks*threads=n)\n",
        "\n",
        "# Lanzar kernel\n",
        "d_square[blocks, threads](d_a, d_out)\n",
        "\n",
        "# cuda synchronized para esperar a que terminen todos los hilos\n",
        "cuda.synchronize() # como una barrera para sincronizar y que terminen todos\n",
        "\n",
        "# Resultado CPU\n",
        "out = h_square(a)\n",
        "aux_out = d_out.copy_to_host().astype(np.float32)\n",
        "\n",
        "# Assert\n",
        "np.testing.assert_almost_equal(aux_out, out)\n",
        "\n",
        "# Medición tiempo\n",
        "\n",
        "# cpu\n",
        "print(\"\\nTiempo en CPU:\")\n",
        "%timeit h_square(a)\n",
        "\n",
        "# gpu\n",
        "print(\"\\nTiempo en GPU:\")\n",
        "%timeit d_square[blocks, threads](d_a, d_out); cuda.synchronize()"
      ]
    }
  ],
  "metadata": {
    "accelerator": "GPU",
    "colab": {
      "gpuType": "T4",
      "provenance": []
    },
    "kernelspec": {
      "display_name": "Python 3",
      "name": "python3"
    },
    "language_info": {
      "name": "python",
      "version": "3.11.11"
    }
  },
  "nbformat": 4,
  "nbformat_minor": 5
}
