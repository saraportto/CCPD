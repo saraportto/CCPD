{
  "cells": [
    {
      "cell_type": "markdown",
      "id": "bce993b2",
      "metadata": {
        "id": "bce993b2"
      },
      "source": [
        "# Ejercicio 2 - Kernel CUDA con stride"
      ]
    },
    {
      "cell_type": "markdown",
      "id": "17782e1f",
      "metadata": {
        "id": "17782e1f"
      },
      "source": [
        "En el código proporcionado, implementar el kernel.\n",
        "---"
      ]
    },
    {
      "cell_type": "code",
      "source": [
        "# Ejecutar en Google Colab\n",
        "!pip install numpy matplotlib scikit-image numba cython setuptools"
      ],
      "metadata": {
        "colab": {
          "base_uri": "https://localhost:8080/"
        },
        "id": "JhuCjW9IN7qy",
        "outputId": "7d403f00-2f42-4089-8f43-3a9548400112"
      },
      "id": "JhuCjW9IN7qy",
      "execution_count": null,
      "outputs": [
        {
          "output_type": "stream",
          "name": "stdout",
          "text": [
            "Requirement already satisfied: numpy in /usr/local/lib/python3.11/dist-packages (2.0.2)\n",
            "Requirement already satisfied: matplotlib in /usr/local/lib/python3.11/dist-packages (3.10.0)\n",
            "Requirement already satisfied: scikit-image in /usr/local/lib/python3.11/dist-packages (0.25.2)\n",
            "Requirement already satisfied: numba in /usr/local/lib/python3.11/dist-packages (0.60.0)\n",
            "Requirement already satisfied: cython in /usr/local/lib/python3.11/dist-packages (3.0.12)\n",
            "Requirement already satisfied: setuptools in /usr/local/lib/python3.11/dist-packages (75.2.0)\n",
            "Requirement already satisfied: contourpy>=1.0.1 in /usr/local/lib/python3.11/dist-packages (from matplotlib) (1.3.2)\n",
            "Requirement already satisfied: cycler>=0.10 in /usr/local/lib/python3.11/dist-packages (from matplotlib) (0.12.1)\n",
            "Requirement already satisfied: fonttools>=4.22.0 in /usr/local/lib/python3.11/dist-packages (from matplotlib) (4.57.0)\n",
            "Requirement already satisfied: kiwisolver>=1.3.1 in /usr/local/lib/python3.11/dist-packages (from matplotlib) (1.4.8)\n",
            "Requirement already satisfied: packaging>=20.0 in /usr/local/lib/python3.11/dist-packages (from matplotlib) (24.2)\n",
            "Requirement already satisfied: pillow>=8 in /usr/local/lib/python3.11/dist-packages (from matplotlib) (11.2.1)\n",
            "Requirement already satisfied: pyparsing>=2.3.1 in /usr/local/lib/python3.11/dist-packages (from matplotlib) (3.2.3)\n",
            "Requirement already satisfied: python-dateutil>=2.7 in /usr/local/lib/python3.11/dist-packages (from matplotlib) (2.9.0.post0)\n",
            "Requirement already satisfied: scipy>=1.11.4 in /usr/local/lib/python3.11/dist-packages (from scikit-image) (1.15.2)\n",
            "Requirement already satisfied: networkx>=3.0 in /usr/local/lib/python3.11/dist-packages (from scikit-image) (3.4.2)\n",
            "Requirement already satisfied: imageio!=2.35.0,>=2.33 in /usr/local/lib/python3.11/dist-packages (from scikit-image) (2.37.0)\n",
            "Requirement already satisfied: tifffile>=2022.8.12 in /usr/local/lib/python3.11/dist-packages (from scikit-image) (2025.3.30)\n",
            "Requirement already satisfied: lazy-loader>=0.4 in /usr/local/lib/python3.11/dist-packages (from scikit-image) (0.4)\n",
            "Requirement already satisfied: llvmlite<0.44,>=0.43.0dev0 in /usr/local/lib/python3.11/dist-packages (from numba) (0.43.0)\n",
            "Requirement already satisfied: six>=1.5 in /usr/local/lib/python3.11/dist-packages (from python-dateutil>=2.7->matplotlib) (1.17.0)\n"
          ]
        }
      ]
    },
    {
      "cell_type": "code",
      "execution_count": null,
      "id": "dc5c196b",
      "metadata": {
        "id": "dc5c196b"
      },
      "outputs": [],
      "source": [
        "### EVITAR ERRORES\n",
        "!uv pip install -q --system numba-cuda==0.4.0\n",
        "\n",
        "from numba import config\n",
        "config.CUDA_ENABLE_PYNVJITLINK = 1"
      ]
    },
    {
      "cell_type": "code",
      "execution_count": 3,
      "id": "9529a208",
      "metadata": {
        "colab": {
          "base_uri": "https://localhost:8080/"
        },
        "id": "9529a208",
        "outputId": "b6dfa85d-cd63-433b-b45e-80c1cc2cd28e"
      },
      "outputs": [
        {
          "output_type": "stream",
          "name": "stdout",
          "text": [
            "\n",
            "Tiempo en CPU:\n",
            "6.27 ms ± 2.01 ms per loop (mean ± std. dev. of 7 runs, 100 loops each)\n",
            "\n",
            "Tiempo en GPU:\n",
            "171 µs ± 1.35 µs per loop (mean ± std. dev. of 7 runs, 10000 loops each)\n"
          ]
        }
      ],
      "source": [
        "import numpy as np\n",
        "from math import hypot, sqrt\n",
        "from numba import cuda\n",
        "\n",
        "\n",
        "# En CPU\n",
        "def cpu_hypot(a,b):\n",
        "    return np.hypot(a,b)\n",
        "\n",
        "# En GPU\n",
        "@cuda.jit\n",
        "def gpu_hypot_stride(x, y, out):\n",
        "\n",
        "    start = cuda.grid(1) # índice global del hilo actual (hilo dentro del bloque como el bloque dentro del grid)\n",
        "    stride = cuda.gridsize(1) # tamaño total de la grid (nº hilos ejecutándose)\n",
        "\n",
        "    for i in range(start, x.shape[0], stride): # bucle con stride\n",
        "        out[i] = abs(x[i])*sqrt(1+(y[i]/x[i])**2) # NO usamos np.hypot (no soportado en CUDA)\n",
        "\n",
        "\n",
        "n = 1000000 # nº elementos\n",
        "\n",
        "# CPU vbles\n",
        "h_a = np.random.uniform(-12, 12, n).astype(np.float32)\n",
        "h_b = np.random.uniform(-12, 12, n).astype(np.float32)\n",
        "\n",
        "# GPU vbles\n",
        "d_a = cuda.to_device(h_a)\n",
        "d_b = cuda.to_device(h_b)\n",
        "d_c = cuda.device_array_like(d_b) # output\n",
        "\n",
        "\n",
        "# Bloques e hilos\n",
        "blocks = 128\n",
        "threads_per_block = 64\n",
        "\n",
        "\n",
        "# Llamada a Kernel\n",
        "gpu_hypot_stride[blocks, threads_per_block](d_a, d_b, d_c)\n",
        "\n",
        "\n",
        "# Assert\n",
        "np.testing.assert_almost_equal(np.hypot(h_a, h_b), d_c.copy_to_host(), decimal=5)\n",
        "\n",
        "\n",
        "# Medición tiempo\n",
        "\n",
        "# cpu\n",
        "print(\"\\nTiempo en CPU:\")\n",
        "%timeit cpu_hypot(h_a, h_b)\n",
        "\n",
        "\n",
        "#gpu\n",
        "print(\"\\nTiempo en GPU:\")\n",
        "%timeit gpu_hypot_stride[blocks, threads_per_block](d_a, d_b, d_c)"
      ]
    }
  ],
  "metadata": {
    "kernelspec": {
      "display_name": "Python 3",
      "name": "python3"
    },
    "language_info": {
      "name": "python",
      "version": "3.11.11"
    },
    "colab": {
      "provenance": [],
      "gpuType": "T4"
    },
    "accelerator": "GPU"
  },
  "nbformat": 4,
  "nbformat_minor": 5
}