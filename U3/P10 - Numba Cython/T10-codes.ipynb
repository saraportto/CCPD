{
 "cells": [
  {
   "cell_type": "markdown",
   "id": "120f22b2",
   "metadata": {},
   "source": [
    "## Tema 10: Numba. Cython. Ufuncs en Numba\n",
    "\n",
    "Instalación de Numba en anaconda:"
   ]
  },
  {
   "cell_type": "raw",
   "id": "5fd90ede",
   "metadata": {
    "vscode": {
     "languageId": "raw"
    }
   },
   "source": [
    "$ conda activate gpu\n",
    "(env) $ conda install numba"
   ]
  },
  {
   "cell_type": "markdown",
   "id": "b735b711",
   "metadata": {},
   "source": [
    "## A - Numba\n",
    "\n",
    "__Python vs. modo object vs. modo nopython__"
   ]
  },
  {
   "cell_type": "code",
   "execution_count": 1,
   "id": "cc57b13e",
   "metadata": {},
   "outputs": [],
   "source": [
    "import numba as nb\n",
    "import numpy as np\n",
    "\n",
    "# Define a Python function that computes the sum of a list of numbers\n",
    "def sum_vector(numbers):\n",
    "    total = 0\n",
    "    for num in numbers:\n",
    "        total += num\n",
    "    return total\n",
    "\n",
    "# Decorate the function with the @jit decorator to enable Numba in object mode\n",
    "@nb.jit\n",
    "def sum_vector_numba(numbers):\n",
    "    total = 0\n",
    "    for num in numbers:\n",
    "        total += num\n",
    "    return total\n",
    "    \n",
    "# Decorate the function with the @jit decorator to enable Numba in nopython mode\n",
    "@nb.jit(nopython=True)\n",
    "def sum_vector_numba_nopython(numbers):\n",
    "    total = 0\n",
    "    for num in numbers:\n",
    "        total += num\n",
    "    return total"
   ]
  },
  {
   "cell_type": "code",
   "execution_count": 2,
   "id": "af4579e4-6f65-4b79-ab5a-92dd9acb8b88",
   "metadata": {},
   "outputs": [
    {
     "name": "stdout",
     "output_type": "stream",
     "text": [
      "82.2 ms ± 3.49 ms per loop (mean ± std. dev. of 7 runs, 10 loops each)\n",
      "321 µs ± 3.65 µs per loop (mean ± std. dev. of 7 runs, 1 loop each)\n",
      "324 µs ± 977 ns per loop (mean ± std. dev. of 7 runs, 1,000 loops each)\n"
     ]
    }
   ],
   "source": [
    "# Test the performance of the three functions\n",
    "numbers = np.arange(1000000)\n",
    "%timeit sum_vector(numbers)       # 100 loops, best of 5: 5.2 ms per loop\n",
    "%timeit sum_vector_numba(numbers)  # 1000 loops, best of 5: 524 µs per loop\n",
    "%timeit sum_vector_numba_nopython(numbers)  # 10000 loops, best of 5: 52.7 µs per loop"
   ]
  },
  {
   "cell_type": "markdown",
   "id": "68d0439f-2bf7-48e7-ba6f-dcb719cfbc09",
   "metadata": {},
   "source": [
    "__Compactación de un vector__"
   ]
  },
  {
   "cell_type": "code",
   "execution_count": 3,
   "id": "df02e7ab-4587-4d9f-8841-d80f6c62a35a",
   "metadata": {},
   "outputs": [],
   "source": [
    "@nb.jit(nopython=True)\n",
    "def nan_compact(x):\n",
    "    out=np.empty_like(x)\n",
    "    out_index = 0\n",
    "    for element in x:\n",
    "        if not np.isnan(element):\n",
    "            out[out_index] = element\n",
    "            out_index += 1\n",
    "    return out[:out_index]"
   ]
  },
  {
   "cell_type": "code",
   "execution_count": 4,
   "id": "b8bb95a3-2da6-43ab-8f89-bb479b098aa8",
   "metadata": {},
   "outputs": [
    {
     "name": "stdout",
     "output_type": "stream",
     "text": [
      "23.7 µs ± 142 ns per loop (mean ± std. dev. of 7 runs, 10,000 loops each)\n",
      "8.46 µs ± 117 ns per loop (mean ± std. dev. of 7 runs, 100,000 loops each)\n"
     ]
    }
   ],
   "source": [
    "a = np.random.uniform(size=10000)\n",
    "a[a<0.2] = np.nan\n",
    "np.testing.assert_equal(nan_compact(a), a[~np.isnan(a)])\n",
    "\n",
    "%timeit a[~np.isnan(a)] \n",
    "%timeit nan_compact(a) "
   ]
  },
  {
   "cell_type": "markdown",
   "id": "fb2b8725-11a8-4043-9d99-b337766af599",
   "metadata": {},
   "source": [
    "__Tiempo de compilación Numba__"
   ]
  },
  {
   "cell_type": "code",
   "execution_count": 5,
   "id": "c344e0cb-181b-4cbb-8d55-128e3b0ee1c9",
   "metadata": {},
   "outputs": [
    {
     "name": "stdout",
     "output_type": "stream",
     "text": [
      "Elapsed (with compilation) = 0.13936471939086914\n",
      "Elapsed (after compilation) = 3.314018249511719e-05\n"
     ]
    }
   ],
   "source": [
    "from numba import jit\n",
    "import numpy as np\n",
    "import time\n",
    "\n",
    "x = np.arange(100).reshape(10, 10)\n",
    "\n",
    "@jit(nopython=True)\n",
    "def go_fast(a): # Function is compiled and runs in machine code\n",
    "    trace = 0.0\n",
    "    for i in range(a.shape[0]):\n",
    "        trace += np.tanh(a[i, i])\n",
    "    return a + trace\n",
    "\n",
    "# DO NOT REPORT THIS... COMPILATION TIME IS INCLUDED IN THE EXECUTION TIME!\n",
    "start = time.time()\n",
    "go_fast(x)\n",
    "end = time.time()\n",
    "print(\"Elapsed (with compilation) = %s\" % (end - start))\n",
    "\n",
    "# NOW THE FUNCTION IS COMPILED, RE-TIME IT EXECUTING FROM CACHE\n",
    "start = time.time()\n",
    "go_fast(x)\n",
    "end = time.time()\n",
    "print(\"Elapsed (after compilation) = %s\" % (end - start))"
   ]
  },
  {
   "cell_type": "markdown",
   "id": "28bdc239-4c26-40a4-b0d4-6870cf981a42",
   "metadata": {},
   "source": [
    "__SumaDeRiemann_TODO.py__"
   ]
  },
  {
   "cell_type": "code",
   "execution_count": null,
   "id": "fdce44ab-6bf0-4d68-ad02-93cfbfc2b589",
   "metadata": {},
   "outputs": [],
   "source": [
    "import numpy as np\n",
    "from numba import jit\n",
    "\n",
    "def riemann_sum(n):\n",
    "    dx = (np.pi/2 - 0) / n # ancho de los intervalos\n",
    "    riemann_sum = 0 # inicializa la suma de Riemann\n",
    "    # TODO (bucle for)\n",
    "    return riemann_sum\n",
    "\n",
    "\n",
    "@jit\n",
    "def riemann_sum_numba(n):\n",
    "    dx = (np.pi/2 - 0) / n # Ancho de los intervalos\n",
    "    riemann_sum = 0\n",
    "    # TODO (bucle for)\n",
    "    return riemann_sum\n",
    "\n",
    "def riemann_sum_noloops(n):\n",
    "    dx = (np.pi/2 - 0) / n # Ancho de los intervalos\n",
    "    # TODO (sin bucles)\n",
    "    return riemann_sum\n",
    "\n",
    "@jit\n",
    "def riemann_sum_noloops_numba(n):\n",
    "    dx = (np.pi/2 - 0) / n # Ancho de los intervalos\n",
    "    # TODO (sin bucles)\n",
    "    return riemann_sum\n"
   ]
  },
  {
   "cell_type": "markdown",
   "id": "ca8f756e",
   "metadata": {},
   "source": [
    "## B - Cython\n",
    "\n",
    "__Operaciones con vectores en Cython__\n",
    "\n",
    "Código que implementa la suma de un número a los elementos de un vector en Cython (_cython_addvec.pyx_):"
   ]
  },
  {
   "cell_type": "code",
   "execution_count": null,
   "id": "60082e12",
   "metadata": {},
   "outputs": [],
   "source": [
    "cimport numpy\n",
    "import numpy as np\n",
    "\n",
    "def cython_addvec(double [::1] vec, double value):\n",
    "  \"\"\"\n",
    "  Adds a value to each element of a NumPy vector.\n",
    "\n",
    "  Args:\n",
    "      vec: A 1D NumPy array of doubles.\n",
    "      value: The value to add to each element.\n",
    "\n",
    "  Returns:\n",
    "      A new NumPy array with the same shape as vec, where\n",
    "      each element has been incremented by value.\n",
    "  \"\"\"\n",
    "\n",
    "  cdef:\n",
    "     int m = vec.shape[0]\n",
    "     double[::1] result = np.zeros(m)\n",
    "\n",
    "  for i in range(len(vec)):\n",
    "    result[i] = vec[i] + value\n",
    "\n",
    "  return result"
   ]
  },
  {
   "cell_type": "markdown",
   "id": "81b5e21d",
   "metadata": {},
   "source": [
    "Script para generar los ficheros .c y .so a partir del .pyx (_setup.py_):"
   ]
  },
  {
   "cell_type": "code",
   "execution_count": null,
   "id": "10595eac",
   "metadata": {},
   "outputs": [],
   "source": [
    "from setuptools import setup\n",
    "from Cython.Build import cythonize\n",
    "import numpy\n",
    "\n",
    "setup(\n",
    "    ext_modules = cythonize(\"cython_addvec.pyx\"),\n",
    "    include_dirs=[numpy.get_include()]\n",
    ")"
   ]
  },
  {
   "cell_type": "markdown",
   "id": "515d87bf",
   "metadata": {},
   "source": [
    "Ejecutar: \n",
    "```\n",
    "$ python3 setup.py build_ext --inplace\n",
    "```\n",
    "\n",
    "Script que define una función en Python estándar y hace la comprobación (_test_addvec.py_):"
   ]
  },
  {
   "cell_type": "code",
   "execution_count": null,
   "id": "d82de37f",
   "metadata": {},
   "outputs": [],
   "source": [
    "import numpy as np\n",
    "\n",
    "num_elem = 10000\n",
    "\n",
    "def python_addvec(vec, value):\n",
    "  result = np.empty_like(vec)\n",
    "  for i in range(len(vec)):\n",
    "    result[i] = vec[i] + value\n",
    "  return result\n",
    "\n",
    "a=np.arange(num_elem, dtype=np.double)\n",
    "x = 4.5\n",
    "b_python = python_addvec(a, x)\n",
    "\n",
    "# ---------------------------\n",
    "\n",
    "from cython_addvec import cython_addvec\n",
    "b_cython = cython_addvec(a, x)\n",
    "\n",
    "np.testing.assert_array_equal(b_python, b_cython)"
   ]
  },
  {
   "cell_type": "markdown",
   "id": "130e4d97-ef0d-4ad6-97bb-275fdc8203f7",
   "metadata": {},
   "source": [
    "## C - Ufuncs en Numba\n",
    "\n",
    "__Suma de vectores en GPU__"
   ]
  },
  {
   "cell_type": "code",
   "execution_count": null,
   "id": "2f4e52ff-044a-4c8b-973c-02dbdcb6398d",
   "metadata": {},
   "outputs": [],
   "source": [
    "import numpy as np\n",
    "from numba import vectorize\n",
    "\n",
    "# Compila y optimiza una ufunc en la CPU\n",
    "@vectorize\n",
    "def add_cpu(x,y):\n",
    "    return x+y\n",
    "\n",
    "# Compila y optimiza una ufunc en la GPU\n",
    "# Requiere signatura de tipos y target\n",
    "@vectorize(['int64 (int64, int64)'], target='cuda')\n",
    "def add_gpu(x,y):\n",
    "    return x+y"
   ]
  },
  {
   "cell_type": "code",
   "execution_count": null,
   "id": "f5a6a957-6887-442a-96f0-d80669eca932",
   "metadata": {},
   "outputs": [],
   "source": [
    "a = np.arange(20)\n",
    "b = np.arange(20)\n",
    "%timeit add_cpu(a,b)\n",
    "%timeit add_gpu(a,b)\n",
    "%timeit np.add(a,b)"
   ]
  },
  {
   "cell_type": "markdown",
   "id": "3c622e06-2fcc-458a-8e20-89e0f1f60901",
   "metadata": {},
   "source": [
    "__Ejemplo de ufunc: función gaussiana__"
   ]
  },
  {
   "cell_type": "code",
   "execution_count": null,
   "id": "a94907a4-6e07-4c51-8233-966ebeeefb04",
   "metadata": {},
   "outputs": [],
   "source": [
    "from numba import vectorize\n",
    "import math # Para math.pi y math.exp\n",
    "import numpy as np\n",
    "\n",
    "SQRT_2PI = np.float32((2*math.pi)**0.5) # Precompute this\n",
    "mean = np.float32(0.0)\n",
    "sigma = np.float32(1.0)\n",
    "\n",
    "# Versión python estándar\n",
    "import scipy.stats \n",
    "gaussian_pdf_python = scipy.stats.norm.pdf\n",
    "\n",
    "# Versión NUMBA CPU\n",
    "@vectorize\n",
    "def gaussian_pdf_cpu(x, mean, sigma):\n",
    "    return math.exp(-0.5 * ((x - mean) / sigma)**2) / (sigma * SQRT_2PI)\n",
    "\n",
    "# Versión NUMBA GPU\n",
    "@vectorize(['float32(float32, float32, float32)'], target='cuda')\n",
    "def gaussian_pdf_gpu(x, mean, sigma):\n",
    "    return math.exp(-0.5 * ((x - mean) / sigma)**2) / (sigma * SQRT_2PI)"
   ]
  },
  {
   "cell_type": "code",
   "execution_count": null,
   "id": "b3769453-ab44-49b0-a65a-8b1763bf06c7",
   "metadata": {},
   "outputs": [],
   "source": [
    "x = np.random.uniform(-3, 3, size=1000000).astype(np.float32)\n",
    "%timeit gaussian_pdf_python(x,mean,sigma)\n",
    "%timeit gaussian_pdf_cpu(x,mean,sigma)\n",
    "%timeit gaussian_pdf_gpu(x,mean,sigma)"
   ]
  },
  {
   "cell_type": "markdown",
   "id": "690236e8-2913-416c-9ef6-71dd5f7c0d23",
   "metadata": {},
   "source": [
    "__Ejercicio 3: vectorizar función en la GPU__"
   ]
  },
  {
   "cell_type": "code",
   "execution_count": null,
   "id": "2e43edc7-29ff-4189-9689-8edefe222120",
   "metadata": {},
   "outputs": [],
   "source": [
    "from matplotlib import pyplot as plt\n",
    "import numpy as np\n",
    "from numba import vectorize\n",
    "\n",
    "# TODO\n",
    "def zero_suppress(waveform_value, threshold):\n",
    "    if waveform_value < threshold:\n",
    "        result = 0\n",
    "    else:\n",
    "        result = waveform_value\n",
    "    return result\n",
    "\n",
    "n = 100000\n",
    "noise = np.random.normal(size=n) * 3\n",
    "pulses = np.maximum(np.sin(np.arange(n) / (n / 23)) - 0.3, 0.0)\n",
    "noisy_signal = ((pulses * 300) + noise).astype(np.int16)\n",
    "\n",
    "clean_signal = zero_suppress(noisy_signal, 15)\n",
    "\n",
    "fig, (ax1, ax2) = plt.subplots(nrows=2, ncols=1)\n",
    "ax1.plot(noisy_signal)\n",
    "ax1.set_ylabel(\"Señal ruidosa\")\n",
    "ax2.plot(clean_signal)\n",
    "ax2.set_ylabel(\"Señal limpia\")\n",
    "fig.tight_layout()\n",
    "fig.show()"
   ]
  },
  {
   "cell_type": "markdown",
   "id": "f2713fab-fa10-46c6-84d5-d2e1a9dc89e0",
   "metadata": {},
   "source": [
    "__Control de la memoria de la GPU__"
   ]
  },
  {
   "cell_type": "code",
   "execution_count": null,
   "id": "4ab87da6-ba43-4a51-94c4-f1cbcc087bcc",
   "metadata": {},
   "outputs": [],
   "source": [
    "from numba import vectorize, cuda\n",
    "import numpy as np\n",
    "n = 100000\n",
    "\n",
    "@vectorize(['float32(float32, float32)'], target='cuda')\n",
    "def add_ufunc(x, y):\n",
    "    return x + y\n",
    "\n",
    "x = np.arange(n).astype(np.float32)\n",
    "y = 2 * x\n",
    "\n",
    "# Movimiento explícito a GPU \n",
    "d_x = cuda.to_device(x)\n",
    "d_y = cuda.to_device(y)\n",
    "z = add_ufunc(d_x, d_y)\n",
    "\n",
    "# Almacena resultados en GPU\n",
    "d_z = cuda.device_array(shape=(n,), dtype=np.float32)\n",
    "add_ufunc(d_x, d_y, out=d_z)\n",
    "h_z = d_z.copy_to_host()"
   ]
  },
  {
   "cell_type": "code",
   "execution_count": null,
   "id": "87eee42e-3a42-4872-be07-eccc98274355",
   "metadata": {},
   "outputs": [],
   "source": [
    "%timeit add_ufunc(x, y)\n",
    "%timeit add_ufunc(d_x, d_y, out=d_z)"
   ]
  },
  {
   "cell_type": "markdown",
   "id": "02e5244f-1096-4fda-a354-3aa8b27b9966",
   "metadata": {},
   "source": [
    "__Ejercicio 4: optimizar la gestión de la memoria__"
   ]
  },
  {
   "cell_type": "code",
   "execution_count": null,
   "id": "a7c55b34-90e2-4fae-a8ae-df62278f053d",
   "metadata": {},
   "outputs": [],
   "source": [
    "import math\n",
    "from numba import vectorize, cuda\n",
    "from matplotlib import pyplot as plt\n",
    "import numpy as np\n",
    "\n",
    "@vectorize(['float32(float32, float32, float32)'], target='cuda')\n",
    "def make_pulses(i, period, amplitude):\n",
    "    return max(math.sin(i / period) - 0.3, 0.0) * amplitude\n",
    "\n",
    "@vectorize(['float32(float32, float32)'], target='cuda')\n",
    "def add_ufunc(x, y):\n",
    "    return x + y\n",
    "\n",
    "n = 100000\n",
    "period = n / 23\n",
    "noise = (np.random.normal(size=n) * 3).astype(np.float32)\n",
    "t = np.arange(n, dtype=np.float32)\n",
    "\n",
    "pulses = make_pulses(t, period, 100.0).astype(np.float32)\n",
    "waveform = add_ufunc(pulses, noise)\n",
    "\n",
    "fig, ax = plt.subplots(nrows=1, ncols=1)\n",
    "ax.plot(waveform)\n",
    "fig.show()"
   ]
  }
 ],
 "metadata": {
  "kernelspec": {
   "display_name": "python_env",
   "language": "python",
   "name": "python3"
  },
  "language_info": {
   "codemirror_mode": {
    "name": "ipython",
    "version": 3
   },
   "file_extension": ".py",
   "mimetype": "text/x-python",
   "name": "python",
   "nbconvert_exporter": "python",
   "pygments_lexer": "ipython3",
   "version": "3.11.11"
  }
 },
 "nbformat": 4,
 "nbformat_minor": 5
}
