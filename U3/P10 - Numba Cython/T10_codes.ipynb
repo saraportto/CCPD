{
  "cells": [
    {
      "cell_type": "markdown",
      "id": "120f22b2",
      "metadata": {
        "id": "120f22b2"
      },
      "source": [
        "## Tema 10: Numba. Cython. Ufuncs en Numba\n",
        "\n",
        "Instalación de Numba en anaconda:"
      ]
    },
    {
      "cell_type": "raw",
      "id": "5fd90ede",
      "metadata": {
        "id": "5fd90ede"
      },
      "source": [
        "$ conda activate env\n",
        "(env) $ conda install numba"
      ]
    },
    {
      "cell_type": "code",
      "source": [
        "# Ejecutar en Google Colab\n",
        "!pip install numpy matplotlib scikit-image numba cython setuptools\n"
      ],
      "metadata": {
        "colab": {
          "base_uri": "https://localhost:8080/"
        },
        "id": "RkZrOKFUV14J",
        "outputId": "aa65c757-8099-4723-e9d8-5037659ef7af"
      },
      "id": "RkZrOKFUV14J",
      "execution_count": 3,
      "outputs": [
        {
          "output_type": "stream",
          "name": "stdout",
          "text": [
            "Requirement already satisfied: numpy in /usr/local/lib/python3.11/dist-packages (2.0.2)\n",
            "Requirement already satisfied: matplotlib in /usr/local/lib/python3.11/dist-packages (3.10.0)\n",
            "Requirement already satisfied: scikit-image in /usr/local/lib/python3.11/dist-packages (0.25.2)\n",
            "Requirement already satisfied: numba in /usr/local/lib/python3.11/dist-packages (0.60.0)\n",
            "Requirement already satisfied: cython in /usr/local/lib/python3.11/dist-packages (3.0.12)\n",
            "Requirement already satisfied: setuptools in /usr/local/lib/python3.11/dist-packages (75.2.0)\n",
            "Requirement already satisfied: contourpy>=1.0.1 in /usr/local/lib/python3.11/dist-packages (from matplotlib) (1.3.2)\n",
            "Requirement already satisfied: cycler>=0.10 in /usr/local/lib/python3.11/dist-packages (from matplotlib) (0.12.1)\n",
            "Requirement already satisfied: fonttools>=4.22.0 in /usr/local/lib/python3.11/dist-packages (from matplotlib) (4.57.0)\n",
            "Requirement already satisfied: kiwisolver>=1.3.1 in /usr/local/lib/python3.11/dist-packages (from matplotlib) (1.4.8)\n",
            "Requirement already satisfied: packaging>=20.0 in /usr/local/lib/python3.11/dist-packages (from matplotlib) (24.2)\n",
            "Requirement already satisfied: pillow>=8 in /usr/local/lib/python3.11/dist-packages (from matplotlib) (11.2.1)\n",
            "Requirement already satisfied: pyparsing>=2.3.1 in /usr/local/lib/python3.11/dist-packages (from matplotlib) (3.2.3)\n",
            "Requirement already satisfied: python-dateutil>=2.7 in /usr/local/lib/python3.11/dist-packages (from matplotlib) (2.9.0.post0)\n",
            "Requirement already satisfied: scipy>=1.11.4 in /usr/local/lib/python3.11/dist-packages (from scikit-image) (1.15.2)\n",
            "Requirement already satisfied: networkx>=3.0 in /usr/local/lib/python3.11/dist-packages (from scikit-image) (3.4.2)\n",
            "Requirement already satisfied: imageio!=2.35.0,>=2.33 in /usr/local/lib/python3.11/dist-packages (from scikit-image) (2.37.0)\n",
            "Requirement already satisfied: tifffile>=2022.8.12 in /usr/local/lib/python3.11/dist-packages (from scikit-image) (2025.3.30)\n",
            "Requirement already satisfied: lazy-loader>=0.4 in /usr/local/lib/python3.11/dist-packages (from scikit-image) (0.4)\n",
            "Requirement already satisfied: llvmlite<0.44,>=0.43.0dev0 in /usr/local/lib/python3.11/dist-packages (from numba) (0.43.0)\n",
            "Requirement already satisfied: six>=1.5 in /usr/local/lib/python3.11/dist-packages (from python-dateutil>=2.7->matplotlib) (1.17.0)\n"
          ]
        }
      ]
    },
    {
      "cell_type": "code",
      "source": [
        "### EVITAR ERRORES\n",
        "\n",
        "!uv pip install -q --system numba-cuda==0.4.0\n",
        "\n",
        "from numba import config\n",
        "config.CUDA_ENABLE_PYNVJITLINK = 1"
      ],
      "metadata": {
        "id": "88pb5S3w4XSa"
      },
      "id": "88pb5S3w4XSa",
      "execution_count": 4,
      "outputs": []
    },
    {
      "cell_type": "code",
      "source": [
        "import tensorflow as tf\n",
        "\n",
        "print(\"TensorFlow version:\", tf.__version__)\n",
        "print(\"Num GPUs Available:\", len(tf.config.list_physical_devices('GPU')))\n"
      ],
      "metadata": {
        "colab": {
          "base_uri": "https://localhost:8080/"
        },
        "id": "dTii-SmhV2oo",
        "outputId": "a1f298b1-b43b-4c69-ff2e-5dcdd4638618"
      },
      "id": "dTii-SmhV2oo",
      "execution_count": 5,
      "outputs": [
        {
          "output_type": "stream",
          "name": "stdout",
          "text": [
            "TensorFlow version: 2.18.0\n",
            "Num GPUs Available: 1\n"
          ]
        }
      ]
    },
    {
      "cell_type": "markdown",
      "id": "b735b711",
      "metadata": {
        "id": "b735b711"
      },
      "source": [
        "## A - Numba\n",
        "\n",
        "__Python vs. modo object vs. modo nopython__"
      ]
    },
    {
      "cell_type": "code",
      "execution_count": 6,
      "id": "cc57b13e",
      "metadata": {
        "id": "cc57b13e"
      },
      "outputs": [],
      "source": [
        "import numba as nb\n",
        "import numpy as np\n",
        "\n",
        "# Define a Python function that computes the sum of a list of numbers\n",
        "def sum_vector(numbers):\n",
        "    total = 0\n",
        "    for num in numbers:\n",
        "        total += num\n",
        "    return total\n",
        "\n",
        "# Decorate the function with the @jit decorator to enable Numba in object mode\n",
        "@nb.jit\n",
        "def sum_vector_numba(numbers):\n",
        "    total = 0\n",
        "    for num in numbers:\n",
        "        total += num\n",
        "    return total\n",
        "\n",
        "# Decorate the function with the @jit decorator to enable Numba in nopython mode\n",
        "@nb.jit(nopython=True)\n",
        "def sum_vector_numba_nopython(numbers):\n",
        "    total = 0\n",
        "    for num in numbers:\n",
        "        total += num\n",
        "    return total"
      ]
    },
    {
      "cell_type": "code",
      "execution_count": 7,
      "id": "af4579e4-6f65-4b79-ab5a-92dd9acb8b88",
      "metadata": {
        "id": "af4579e4-6f65-4b79-ab5a-92dd9acb8b88",
        "colab": {
          "base_uri": "https://localhost:8080/"
        },
        "outputId": "77c39397-3b9e-4a7c-bbce-7e609e2ef775"
      },
      "outputs": [
        {
          "output_type": "stream",
          "name": "stdout",
          "text": [
            "112 ms ± 49.1 ms per loop (mean ± std. dev. of 7 runs, 10 loops each)\n",
            "438 µs ± 147 µs per loop (mean ± std. dev. of 7 runs, 1 loop each)\n",
            "524 µs ± 98.8 µs per loop (mean ± std. dev. of 7 runs, 1000 loops each)\n"
          ]
        }
      ],
      "source": [
        "# Test the performance of the three functions\n",
        "numbers = np.arange(1000000)\n",
        "%timeit sum_vector(numbers)       # 100 loops, best of 5: 5.2 ms per loop\n",
        "%timeit sum_vector_numba(numbers)  # 1000 loops, best of 5: 524 µs per loop\n",
        "%timeit sum_vector_numba_nopython(numbers)  # 10000 loops, best of 5: 52.7 µs per loop"
      ]
    },
    {
      "cell_type": "markdown",
      "id": "68d0439f-2bf7-48e7-ba6f-dcb719cfbc09",
      "metadata": {
        "id": "68d0439f-2bf7-48e7-ba6f-dcb719cfbc09"
      },
      "source": [
        "__Compactación de un vector__"
      ]
    },
    {
      "cell_type": "code",
      "execution_count": 8,
      "id": "df02e7ab-4587-4d9f-8841-d80f6c62a35a",
      "metadata": {
        "id": "df02e7ab-4587-4d9f-8841-d80f6c62a35a"
      },
      "outputs": [],
      "source": [
        "@nb.jit(nopython=True)\n",
        "def nan_compact(x):\n",
        "    out=np.empty_like(x)\n",
        "    out_index = 0\n",
        "    for element in x:\n",
        "        if not np.isnan(element):\n",
        "            out[out_index] = element\n",
        "            out_index += 1\n",
        "    return out[:out_index]"
      ]
    },
    {
      "cell_type": "code",
      "execution_count": 9,
      "id": "b8bb95a3-2da6-43ab-8f89-bb479b098aa8",
      "metadata": {
        "id": "b8bb95a3-2da6-43ab-8f89-bb479b098aa8",
        "colab": {
          "base_uri": "https://localhost:8080/"
        },
        "outputId": "ff49bc3c-24d6-4e19-f93f-d5e2070cf7e2"
      },
      "outputs": [
        {
          "output_type": "stream",
          "name": "stdout",
          "text": [
            "43.5 µs ± 278 ns per loop (mean ± std. dev. of 7 runs, 10000 loops each)\n",
            "11.1 µs ± 2.95 µs per loop (mean ± std. dev. of 7 runs, 100000 loops each)\n"
          ]
        }
      ],
      "source": [
        "a = np.random.uniform(size=10000)\n",
        "a[a<0.2] = np.nan\n",
        "np.testing.assert_equal(nan_compact(a), a[~np.isnan(a)])\n",
        "\n",
        "%timeit a[~np.isnan(a)]\n",
        "%timeit nan_compact(a)"
      ]
    },
    {
      "cell_type": "markdown",
      "id": "fb2b8725-11a8-4043-9d99-b337766af599",
      "metadata": {
        "id": "fb2b8725-11a8-4043-9d99-b337766af599"
      },
      "source": [
        "__Tiempo de compilación Numba__"
      ]
    },
    {
      "cell_type": "code",
      "execution_count": 10,
      "id": "c344e0cb-181b-4cbb-8d55-128e3b0ee1c9",
      "metadata": {
        "id": "c344e0cb-181b-4cbb-8d55-128e3b0ee1c9",
        "colab": {
          "base_uri": "https://localhost:8080/"
        },
        "outputId": "226273c3-3fd7-4db0-ad21-1700ccbd701a"
      },
      "outputs": [
        {
          "output_type": "stream",
          "name": "stdout",
          "text": [
            "Elapsed (with compilation) = 0.23360490798950195\n",
            "Elapsed (after compilation) = 6.365776062011719e-05\n"
          ]
        }
      ],
      "source": [
        "from numba import jit\n",
        "import numpy as np\n",
        "import time\n",
        "\n",
        "x = np.arange(100).reshape(10, 10)\n",
        "\n",
        "@jit(nopython=True)\n",
        "def go_fast(a): # Function is compiled and runs in machine code\n",
        "    trace = 0.0\n",
        "    for i in range(a.shape[0]):\n",
        "        trace += np.tanh(a[i, i])\n",
        "    return a + trace\n",
        "\n",
        "# DO NOT REPORT THIS... COMPILATION TIME IS INCLUDED IN THE EXECUTION TIME!\n",
        "start = time.time()\n",
        "go_fast(x)\n",
        "end = time.time()\n",
        "print(\"Elapsed (with compilation) = %s\" % (end - start))\n",
        "\n",
        "# NOW THE FUNCTION IS COMPILED, RE-TIME IT EXECUTING FROM CACHE\n",
        "start = time.time()\n",
        "go_fast(x)\n",
        "end = time.time()\n",
        "print(\"Elapsed (after compilation) = %s\" % (end - start))"
      ]
    },
    {
      "cell_type": "markdown",
      "id": "28bdc239-4c26-40a4-b0d4-6870cf981a42",
      "metadata": {
        "id": "28bdc239-4c26-40a4-b0d4-6870cf981a42"
      },
      "source": [
        "__SumaDeRiemann_TODO.py__"
      ]
    },
    {
      "cell_type": "code",
      "execution_count": 11,
      "id": "fdce44ab-6bf0-4d68-ad02-93cfbfc2b589",
      "metadata": {
        "id": "fdce44ab-6bf0-4d68-ad02-93cfbfc2b589"
      },
      "outputs": [],
      "source": [
        "import numpy as np\n",
        "from numba import jit\n",
        "\n",
        "def riemann_sum(n):\n",
        "    dx = (np.pi/2 - 0) / n # Ancho de los intervalos\n",
        "    riemann_sum = 0\n",
        "    # TODO (bucle for)\n",
        "    return riemann_sum\n",
        "\n",
        "@jit\n",
        "def riemann_sum_numba(n):\n",
        "    dx = (np.pi/2 - 0) / n # Ancho de los intervalos\n",
        "    riemann_sum = 0\n",
        "    # TODO (bucle for)\n",
        "    return riemann_sum\n",
        "\n",
        "def riemann_sum_noloops(n):\n",
        "    dx = (np.pi/2 - 0) / n # Ancho de los intervalos\n",
        "    # TODO (sin bucles)\n",
        "    return riemann_sum\n",
        "\n",
        "@jit\n",
        "def riemann_sum_noloops_numba(n):\n",
        "    dx = (np.pi/2 - 0) / n # Ancho de los intervalos\n",
        "    # TODO (sin bucles)\n",
        "    return riemann_sum\n",
        "\n",
        "# Comprobar con assert\n"
      ]
    },
    {
      "cell_type": "markdown",
      "id": "ca8f756e",
      "metadata": {
        "id": "ca8f756e"
      },
      "source": [
        "## B - Cython\n",
        "\n",
        "__Operaciones con vectores en Cython__\n",
        "\n",
        "Código que implementa la suma de un número a los elementos de un vector en Cython (_cython_addvec.pyx_):"
      ]
    },
    {
      "cell_type": "code",
      "execution_count": 12,
      "id": "60082e12",
      "metadata": {
        "id": "60082e12",
        "colab": {
          "base_uri": "https://localhost:8080/",
          "height": 106
        },
        "outputId": "f54d3f34-da81-4813-f19d-2aaf1e5a7506"
      },
      "outputs": [
        {
          "output_type": "error",
          "ename": "SyntaxError",
          "evalue": "invalid syntax (<ipython-input-12-52f188e7e7f0>, line 1)",
          "traceback": [
            "\u001b[0;36m  File \u001b[0;32m\"<ipython-input-12-52f188e7e7f0>\"\u001b[0;36m, line \u001b[0;32m1\u001b[0m\n\u001b[0;31m    cimport numpy\u001b[0m\n\u001b[0m            ^\u001b[0m\n\u001b[0;31mSyntaxError\u001b[0m\u001b[0;31m:\u001b[0m invalid syntax\n"
          ]
        }
      ],
      "source": [
        "cimport numpy\n",
        "import numpy as np\n",
        "\n",
        "def cython_addvec(double [::1] vec, double value):\n",
        "  \"\"\"\n",
        "  Adds a value to each element of a NumPy vector.\n",
        "\n",
        "  Args:\n",
        "      vec: A 1D NumPy array of doubles.\n",
        "      value: The value to add to each element.\n",
        "\n",
        "  Returns:\n",
        "      A new NumPy array with the same shape as vec, where\n",
        "      each element has been incremented by value.\n",
        "  \"\"\"\n",
        "\n",
        "  cdef:\n",
        "     int m = vec.shape[0]\n",
        "     double[::1] result = np.zeros(m)\n",
        "\n",
        "  for i in range(len(vec)):\n",
        "    result[i] = vec[i] + value\n",
        "\n",
        "  return result"
      ]
    },
    {
      "cell_type": "markdown",
      "id": "81b5e21d",
      "metadata": {
        "id": "81b5e21d"
      },
      "source": [
        "Script para generar los ficheros .c y .so a partir del .pyx (_setup.py_):"
      ]
    },
    {
      "cell_type": "code",
      "execution_count": null,
      "id": "10595eac",
      "metadata": {
        "id": "10595eac"
      },
      "outputs": [],
      "source": [
        "from setuptools import setup\n",
        "from Cython.Build import cythonize\n",
        "import numpy\n",
        "\n",
        "setup(\n",
        "    ext_modules = cythonize(\"cython_addvec.pyx\"),\n",
        "    include_dirs=[numpy.get_include()]\n",
        ")"
      ]
    },
    {
      "cell_type": "markdown",
      "id": "515d87bf",
      "metadata": {
        "id": "515d87bf"
      },
      "source": [
        "Ejecutar:\n",
        "```\n",
        "$ python3 setup.py build_ext --inplace\n",
        "```\n",
        "\n",
        "Script que define una función en Python estándar y hace la comprobación (_test_addvec.py_):"
      ]
    },
    {
      "cell_type": "code",
      "execution_count": null,
      "id": "d82de37f",
      "metadata": {
        "id": "d82de37f"
      },
      "outputs": [],
      "source": [
        "import numpy as np\n",
        "\n",
        "num_elem = 10000\n",
        "\n",
        "def python_addvec(vec, value):\n",
        "  result = np.empty_like(vec)\n",
        "  for i in range(len(vec)):\n",
        "    result[i] = vec[i] + value\n",
        "  return result\n",
        "\n",
        "a=np.arange(num_elem, dtype=np.double)\n",
        "x = 4.5\n",
        "b_python = python_addvec(a, x)\n",
        "\n",
        "# ---------------------------\n",
        "\n",
        "from cython_addvec import cython_addvec\n",
        "b_cython = cython_addvec(a, x)\n",
        "\n",
        "np.testing.assert_array_equal(b_python, b_cython)"
      ]
    },
    {
      "cell_type": "markdown",
      "id": "130e4d97-ef0d-4ad6-97bb-275fdc8203f7",
      "metadata": {
        "id": "130e4d97-ef0d-4ad6-97bb-275fdc8203f7"
      },
      "source": [
        "## C - Ufuncs en Numba\n",
        "\n",
        "__Suma de vectores en GPU__"
      ]
    },
    {
      "cell_type": "code",
      "execution_count": 13,
      "id": "2f4e52ff-044a-4c8b-973c-02dbdcb6398d",
      "metadata": {
        "id": "2f4e52ff-044a-4c8b-973c-02dbdcb6398d"
      },
      "outputs": [],
      "source": [
        "import numpy as np\n",
        "from numba import vectorize\n",
        "\n",
        "# Compila y optimiza una ufunc en la CPU\n",
        "@vectorize\n",
        "def add_cpu(x,y):\n",
        "    return x+y\n",
        "\n",
        "# Compila y optimiza una ufunc en la GPU\n",
        "# Requiere signatura de tipos y target\n",
        "@vectorize(['int64 (int64, int64)'], target='cuda')\n",
        "def add_gpu(x,y):\n",
        "    return x+y"
      ]
    },
    {
      "cell_type": "code",
      "execution_count": 14,
      "id": "f5a6a957-6887-442a-96f0-d80669eca932",
      "metadata": {
        "id": "f5a6a957-6887-442a-96f0-d80669eca932",
        "colab": {
          "base_uri": "https://localhost:8080/"
        },
        "outputId": "ed960a5c-7abe-43f2-b78e-d32a174418ca"
      },
      "outputs": [
        {
          "output_type": "stream",
          "name": "stdout",
          "text": [
            "1.34 µs ± 247 ns per loop (mean ± std. dev. of 7 runs, 1000000 loops each)\n"
          ]
        },
        {
          "output_type": "stream",
          "name": "stderr",
          "text": [
            "/usr/local/lib/python3.11/dist-packages/numba_cuda/numba/cuda/dispatcher.py:605: NumbaPerformanceWarning: Grid size 1 will likely result in GPU under-utilization due to low occupancy.\n",
            "  warn(NumbaPerformanceWarning(msg))\n"
          ]
        },
        {
          "output_type": "stream",
          "name": "stdout",
          "text": [
            "855 µs ± 139 µs per loop (mean ± std. dev. of 7 runs, 1 loop each)\n",
            "557 ns ± 58.6 ns per loop (mean ± std. dev. of 7 runs, 1000000 loops each)\n"
          ]
        }
      ],
      "source": [
        "a = np.arange(20)\n",
        "b = np.arange(20)\n",
        "%timeit add_cpu(a,b)\n",
        "%timeit add_gpu(a,b)\n",
        "%timeit np.add(a,b)"
      ]
    },
    {
      "cell_type": "markdown",
      "id": "3c622e06-2fcc-458a-8e20-89e0f1f60901",
      "metadata": {
        "id": "3c622e06-2fcc-458a-8e20-89e0f1f60901"
      },
      "source": [
        "__Ejemplo de ufunc: función gaussiana__"
      ]
    },
    {
      "cell_type": "code",
      "execution_count": 15,
      "id": "a94907a4-6e07-4c51-8233-966ebeeefb04",
      "metadata": {
        "id": "a94907a4-6e07-4c51-8233-966ebeeefb04"
      },
      "outputs": [],
      "source": [
        "from numba import vectorize\n",
        "import math # Para math.pi y math.exp\n",
        "import numpy as np\n",
        "\n",
        "SQRT_2PI = np.float32((2*math.pi)**0.5) # Precompute this\n",
        "mean = np.float32(0.0)\n",
        "sigma = np.float32(1.0)\n",
        "\n",
        "# Versión python estándar\n",
        "import scipy.stats\n",
        "gaussian_pdf_python = scipy.stats.norm.pdf\n",
        "\n",
        "# Versión NUMBA CPU\n",
        "@vectorize\n",
        "def gaussian_pdf_cpu(x, mean, sigma):\n",
        "    return math.exp(-0.5 * ((x - mean) / sigma)**2) / (sigma * SQRT_2PI)\n",
        "\n",
        "# Versión NUMBA GPU\n",
        "@vectorize(['float32(float32, float32, float32)'], target='cuda')\n",
        "def gaussian_pdf_gpu(x, mean, sigma):\n",
        "    return math.exp(-0.5 * ((x - mean) / sigma)**2) / (sigma * SQRT_2PI)"
      ]
    },
    {
      "cell_type": "code",
      "execution_count": 16,
      "id": "b3769453-ab44-49b0-a65a-8b1763bf06c7",
      "metadata": {
        "id": "b3769453-ab44-49b0-a65a-8b1763bf06c7",
        "colab": {
          "base_uri": "https://localhost:8080/"
        },
        "outputId": "b03db943-8ba1-4b3a-9012-f97aa8b74665"
      },
      "outputs": [
        {
          "output_type": "stream",
          "name": "stdout",
          "text": [
            "39.3 ms ± 6.32 ms per loop (mean ± std. dev. of 7 runs, 10 loops each)\n",
            "13.1 ms ± 1.83 ms per loop (mean ± std. dev. of 7 runs, 100 loops each)\n",
            "4.02 ms ± 64 µs per loop (mean ± std. dev. of 7 runs, 100 loops each)\n"
          ]
        }
      ],
      "source": [
        "x = np.random.uniform(-3, 3, size=1000000).astype(np.float32)\n",
        "%timeit gaussian_pdf_python(x,mean,sigma)\n",
        "%timeit gaussian_pdf_cpu(x,mean,sigma)\n",
        "%timeit gaussian_pdf_gpu(x,mean,sigma)"
      ]
    },
    {
      "cell_type": "markdown",
      "id": "690236e8-2913-416c-9ef6-71dd5f7c0d23",
      "metadata": {
        "id": "690236e8-2913-416c-9ef6-71dd5f7c0d23"
      },
      "source": [
        "__Ejercicio 3: vectorizar función en la GPU__"
      ]
    },
    {
      "cell_type": "code",
      "execution_count": 17,
      "id": "2e43edc7-29ff-4189-9689-8edefe222120",
      "metadata": {
        "id": "2e43edc7-29ff-4189-9689-8edefe222120",
        "colab": {
          "base_uri": "https://localhost:8080/",
          "height": 349
        },
        "outputId": "222c1aa3-5b93-4112-80ff-d50704366d1b"
      },
      "outputs": [
        {
          "output_type": "error",
          "ename": "ValueError",
          "evalue": "The truth value of an array with more than one element is ambiguous. Use a.any() or a.all()",
          "traceback": [
            "\u001b[0;31m---------------------------------------------------------------------------\u001b[0m",
            "\u001b[0;31mValueError\u001b[0m                                Traceback (most recent call last)",
            "\u001b[0;32m<ipython-input-17-73a31d80c0a1>\u001b[0m in \u001b[0;36m<cell line: 0>\u001b[0;34m()\u001b[0m\n\u001b[1;32m     16\u001b[0m \u001b[0mnoisy_signal\u001b[0m \u001b[0;34m=\u001b[0m \u001b[0;34m(\u001b[0m\u001b[0;34m(\u001b[0m\u001b[0mpulses\u001b[0m \u001b[0;34m*\u001b[0m \u001b[0;36m300\u001b[0m\u001b[0;34m)\u001b[0m \u001b[0;34m+\u001b[0m \u001b[0mnoise\u001b[0m\u001b[0;34m)\u001b[0m\u001b[0;34m.\u001b[0m\u001b[0mastype\u001b[0m\u001b[0;34m(\u001b[0m\u001b[0mnp\u001b[0m\u001b[0;34m.\u001b[0m\u001b[0mint16\u001b[0m\u001b[0;34m)\u001b[0m\u001b[0;34m\u001b[0m\u001b[0;34m\u001b[0m\u001b[0m\n\u001b[1;32m     17\u001b[0m \u001b[0;34m\u001b[0m\u001b[0m\n\u001b[0;32m---> 18\u001b[0;31m \u001b[0mclean_signal\u001b[0m \u001b[0;34m=\u001b[0m \u001b[0mzero_suppress\u001b[0m\u001b[0;34m(\u001b[0m\u001b[0mnoisy_signal\u001b[0m\u001b[0;34m,\u001b[0m \u001b[0;36m15\u001b[0m\u001b[0;34m)\u001b[0m\u001b[0;34m\u001b[0m\u001b[0;34m\u001b[0m\u001b[0m\n\u001b[0m\u001b[1;32m     19\u001b[0m \u001b[0;34m\u001b[0m\u001b[0m\n\u001b[1;32m     20\u001b[0m \u001b[0mfig\u001b[0m\u001b[0;34m,\u001b[0m \u001b[0;34m(\u001b[0m\u001b[0max1\u001b[0m\u001b[0;34m,\u001b[0m \u001b[0max2\u001b[0m\u001b[0;34m)\u001b[0m \u001b[0;34m=\u001b[0m \u001b[0mplt\u001b[0m\u001b[0;34m.\u001b[0m\u001b[0msubplots\u001b[0m\u001b[0;34m(\u001b[0m\u001b[0mnrows\u001b[0m\u001b[0;34m=\u001b[0m\u001b[0;36m2\u001b[0m\u001b[0;34m,\u001b[0m \u001b[0mncols\u001b[0m\u001b[0;34m=\u001b[0m\u001b[0;36m1\u001b[0m\u001b[0;34m)\u001b[0m\u001b[0;34m\u001b[0m\u001b[0;34m\u001b[0m\u001b[0m\n",
            "\u001b[0;32m<ipython-input-17-73a31d80c0a1>\u001b[0m in \u001b[0;36mzero_suppress\u001b[0;34m(waveform_value, threshold)\u001b[0m\n\u001b[1;32m      5\u001b[0m \u001b[0;31m# TODO\u001b[0m\u001b[0;34m\u001b[0m\u001b[0;34m\u001b[0m\u001b[0m\n\u001b[1;32m      6\u001b[0m \u001b[0;32mdef\u001b[0m \u001b[0mzero_suppress\u001b[0m\u001b[0;34m(\u001b[0m\u001b[0mwaveform_value\u001b[0m\u001b[0;34m,\u001b[0m \u001b[0mthreshold\u001b[0m\u001b[0;34m)\u001b[0m\u001b[0;34m:\u001b[0m\u001b[0;34m\u001b[0m\u001b[0;34m\u001b[0m\u001b[0m\n\u001b[0;32m----> 7\u001b[0;31m     \u001b[0;32mif\u001b[0m \u001b[0mwaveform_value\u001b[0m \u001b[0;34m<\u001b[0m \u001b[0mthreshold\u001b[0m\u001b[0;34m:\u001b[0m\u001b[0;34m\u001b[0m\u001b[0;34m\u001b[0m\u001b[0m\n\u001b[0m\u001b[1;32m      8\u001b[0m         \u001b[0mresult\u001b[0m \u001b[0;34m=\u001b[0m \u001b[0;36m0\u001b[0m\u001b[0;34m\u001b[0m\u001b[0;34m\u001b[0m\u001b[0m\n\u001b[1;32m      9\u001b[0m     \u001b[0;32melse\u001b[0m\u001b[0;34m:\u001b[0m\u001b[0;34m\u001b[0m\u001b[0;34m\u001b[0m\u001b[0m\n",
            "\u001b[0;31mValueError\u001b[0m: The truth value of an array with more than one element is ambiguous. Use a.any() or a.all()"
          ]
        }
      ],
      "source": [
        "from matplotlib import pyplot as plt\n",
        "import numpy as np\n",
        "from numba import vectorize\n",
        "\n",
        "# TODO\n",
        "def zero_suppress(waveform_value, threshold):\n",
        "    if waveform_value < threshold:\n",
        "        result = 0\n",
        "    else:\n",
        "        result = waveform_value\n",
        "    return result\n",
        "\n",
        "n = 100000\n",
        "noise = np.random.normal(size=n) * 3\n",
        "pulses = np.maximum(np.sin(np.arange(n) / (n / 23)) - 0.3, 0.0)\n",
        "noisy_signal = ((pulses * 300) + noise).astype(np.int16)\n",
        "\n",
        "clean_signal = zero_suppress(noisy_signal, 15)\n",
        "\n",
        "fig, (ax1, ax2) = plt.subplots(nrows=2, ncols=1)\n",
        "ax1.plot(noisy_signal)\n",
        "ax1.set_ylabel(\"Señal ruidosa\")\n",
        "ax2.plot(clean_signal)\n",
        "ax2.set_ylabel(\"Señal limpia\")\n",
        "fig.tight_layout()\n",
        "fig.show()"
      ]
    },
    {
      "cell_type": "markdown",
      "id": "f2713fab-fa10-46c6-84d5-d2e1a9dc89e0",
      "metadata": {
        "id": "f2713fab-fa10-46c6-84d5-d2e1a9dc89e0"
      },
      "source": [
        "__Control de la memoria de la GPU__"
      ]
    },
    {
      "cell_type": "code",
      "execution_count": 18,
      "id": "4ab87da6-ba43-4a51-94c4-f1cbcc087bcc",
      "metadata": {
        "id": "4ab87da6-ba43-4a51-94c4-f1cbcc087bcc",
        "colab": {
          "base_uri": "https://localhost:8080/"
        },
        "outputId": "e8c146ab-4ba7-4548-ceff-75b81489c1e9"
      },
      "outputs": [
        {
          "output_type": "stream",
          "name": "stderr",
          "text": [
            "/usr/local/lib/python3.11/dist-packages/numba_cuda/numba/cuda/dispatcher.py:605: NumbaPerformanceWarning: Grid size 98 will likely result in GPU under-utilization due to low occupancy.\n",
            "  warn(NumbaPerformanceWarning(msg))\n"
          ]
        }
      ],
      "source": [
        "from numba import vectorize, cuda\n",
        "import numpy as np\n",
        "n = 100000\n",
        "\n",
        "@vectorize(['float32(float32, float32)'], target='cuda')\n",
        "def add_ufunc(x, y):\n",
        "    return x + y\n",
        "\n",
        "x = np.arange(n).astype(np.float32)\n",
        "y = 2 * x\n",
        "\n",
        "# Movimiento explícito a GPU\n",
        "d_x = cuda.to_device(x)\n",
        "d_y = cuda.to_device(y)\n",
        "z = add_ufunc(d_x, d_y)\n",
        "\n",
        "# Almacena resultados en GPU\n",
        "d_z = cuda.device_array(shape=(n,), dtype=np.float32)\n",
        "add_ufunc(d_x, d_y, out=d_z)\n",
        "h_z = d_z.copy_to_host()"
      ]
    },
    {
      "cell_type": "code",
      "execution_count": 19,
      "id": "87eee42e-3a42-4872-be07-eccc98274355",
      "metadata": {
        "id": "87eee42e-3a42-4872-be07-eccc98274355",
        "colab": {
          "base_uri": "https://localhost:8080/"
        },
        "outputId": "67fccd0f-7c37-4810-b6e4-1f7b4401a4a9"
      },
      "outputs": [
        {
          "output_type": "stream",
          "name": "stdout",
          "text": [
            "1.37 ms ± 149 µs per loop (mean ± std. dev. of 7 runs, 1000 loops each)\n",
            "197 µs ± 5.52 µs per loop (mean ± std. dev. of 7 runs, 1000 loops each)\n"
          ]
        }
      ],
      "source": [
        "%timeit add_ufunc(x, y)\n",
        "%timeit add_ufunc(d_x, d_y, out=d_z)"
      ]
    },
    {
      "cell_type": "markdown",
      "id": "02e5244f-1096-4fda-a354-3aa8b27b9966",
      "metadata": {
        "id": "02e5244f-1096-4fda-a354-3aa8b27b9966"
      },
      "source": [
        "__Ejercicio 4: optimizar la gestión de la memoria__"
      ]
    },
    {
      "cell_type": "code",
      "execution_count": 20,
      "id": "a7c55b34-90e2-4fae-a8ae-df62278f053d",
      "metadata": {
        "id": "a7c55b34-90e2-4fae-a8ae-df62278f053d",
        "colab": {
          "base_uri": "https://localhost:8080/",
          "height": 519
        },
        "outputId": "e3a33f95-6939-414f-bc6c-d54d2f5fe779"
      },
      "outputs": [
        {
          "output_type": "stream",
          "name": "stderr",
          "text": [
            "/usr/local/lib/python3.11/dist-packages/numba_cuda/numba/cuda/dispatcher.py:605: NumbaPerformanceWarning: Grid size 98 will likely result in GPU under-utilization due to low occupancy.\n",
            "  warn(NumbaPerformanceWarning(msg))\n",
            "/usr/local/lib/python3.11/dist-packages/numba_cuda/numba/cuda/dispatcher.py:605: NumbaPerformanceWarning: Grid size 98 will likely result in GPU under-utilization due to low occupancy.\n",
            "  warn(NumbaPerformanceWarning(msg))\n"
          ]
        },
        {
          "output_type": "display_data",
          "data": {
            "text/plain": [
              "<Figure size 640x480 with 1 Axes>"
            ],
            "image/png": "[encoded data removed]"
          },
          "metadata": {}
        }
      ],
      "source": [
        "import math\n",
        "from numba import vectorize, cuda\n",
        "from matplotlib import pyplot as plt\n",
        "import numpy as np\n",
        "\n",
        "@vectorize(['float32(float32, float32, float32)'], target='cuda')\n",
        "def make_pulses(i, period, amplitude):\n",
        "    return max(math.sin(i / period) - 0.3, 0.0) * amplitude\n",
        "\n",
        "@vectorize(['float32(float32, float32)'], target='cuda')\n",
        "def add_ufunc(x, y):\n",
        "    return x + y\n",
        "\n",
        "n = 100000\n",
        "period = n / 23\n",
        "noise = (np.random.normal(size=n) * 3).astype(np.float32)\n",
        "t = np.arange(n, dtype=np.float32)\n",
        "\n",
        "pulses = make_pulses(t, period, 100.0).astype(np.float32)\n",
        "waveform = add_ufunc(pulses, noise)\n",
        "\n",
        "fig, ax = plt.subplots(nrows=1, ncols=1)\n",
        "ax.plot(waveform)\n",
        "fig.show()"
      ]
    }
  ],
  "metadata": {
    "kernelspec": {
      "display_name": "Python 3",
      "name": "python3"
    },
    "language_info": {
      "codemirror_mode": {
        "name": "ipython",
        "version": 3
      },
      "file_extension": ".py",
      "mimetype": "text/x-python",
      "name": "python",
      "nbconvert_exporter": "python",
      "pygments_lexer": "ipython3",
      "version": "3.11.7"
    },
    "colab": {
      "provenance": [],
      "gpuType": "T4",
      "collapsed_sections": [
        "ca8f756e",
        "130e4d97-ef0d-4ad6-97bb-275fdc8203f7"
      ]
    },
    "accelerator": "GPU"
  },
  "nbformat": 4,
  "nbformat_minor": 5
}