{
  "cells": [
    {
      "cell_type": "markdown",
      "id": "3c74bc2e",
      "metadata": {
        "id": "3c74bc2e"
      },
      "source": [
        "# Ejercicio 1 - Suma de Riemann"
      ]
    },
    {
      "cell_type": "markdown",
      "id": "9264a813",
      "metadata": {
        "id": "9264a813"
      },
      "source": [
        "En matemáticas, un **suma de Riemann** es aproximar una integral por una suma\n",
        "finita.\n",
        "\n",
        "---\n",
        "\n",
        "La suma se **calcula**:\n",
        "\n",
        "* Partimos la región en polígonos (típicamente rectángulos) de tal forma que los\n",
        "polígonos aproximan la región a medir\n",
        "\n",
        "* Calculamos el área de cada una de estas regiones\n",
        "\n",
        "* Sumamos todas las áreas\n",
        "\n",
        "---\n",
        "\n",
        "**Tareas a realizar**:\n",
        "1. Calcular la integral de f(x)=sin(x) en\n",
        "[0, π/2] (nota: es igual a 1.0)\n",
        "1. Hacer dos funciones una con bucles\n",
        "for y otra sin ellos (comprobar que dan\n",
        "el mismo resultado con assert)\n",
        "1. Medir el tiempo para cada una de\n",
        "ellas en función del nº de intervalos\n",
        "\n",
        "---"
      ]
    },
    {
      "cell_type": "raw",
      "id": "6272d560",
      "metadata": {
        "id": "6272d560"
      },
      "source": [
        "$ conda activate gpu\n",
        "(env) $ conda install numba"
      ]
    },
    {
      "cell_type": "code",
      "execution_count": null,
      "id": "7d537f71",
      "metadata": {
        "id": "7d537f71"
      },
      "outputs": [],
      "source": [
        "### ---- IMPORTS ------ ###\n",
        "import numpy as np\n",
        "from numba import jit\n",
        "\n",
        "\n",
        "### ------ GLOBALES ------ ###\n",
        "A = 0\n",
        "B = np.pi/2\n",
        "TRUE_VALUE = 1.0  # Valor exacto de la integral\n",
        "\n",
        "### ------ FUNCIONES ------ ###\n",
        "\n",
        "## CON BUCLES ##\n",
        "\n",
        "# Sin numba\n",
        "def riemann_sum(n):\n",
        "    dx = (B - A) / n # ancho de los intervalos (de 0 a pi/2 entre el nº de intervalos)\n",
        "    riemann_sum = 0 # inicializa la suma de Riemann\n",
        "\n",
        "    for i in range(n): # para cada intervalo\n",
        "        x = (i+0.5)*dx  # punto medio\n",
        "        riemann_sum += np.sin(x) # suma de Riemann --> acumulando\n",
        "\n",
        "    return riemann_sum * dx\n",
        "\n",
        "\n",
        "# Con numba\n",
        "@jit\n",
        "def riemann_sum_numba(n):\n",
        "    dx = (B - A) / n # ancho de los intervalos (de 0 a pi/2 entre el nº de intervalos)\n",
        "    riemann_sum = 0 # inicializa la suma de Riemann\n",
        "\n",
        "    for i in range(n): # para cada intervalo\n",
        "        x = (i+0.5)*dx  # punto medio\n",
        "        riemann_sum += np.sin(x) # suma de Riemann --> acumulando\n",
        "\n",
        "    return riemann_sum * dx\n",
        "\n",
        "\n",
        "## SIN BUCLES ##\n",
        "\n",
        "# Sin numba\n",
        "def riemann_sum_noloops(n):\n",
        "    dx = (np.pi/2 - 0) / n # Ancho de los intervalos\n",
        "    x = (np.arange(n) + 0.5) * dx\n",
        "    return np.sum(np.sin(x)) * dx\n",
        "\n",
        "\n",
        "# Con numba\n",
        "@jit\n",
        "def riemann_sum_noloops_numba(n):\n",
        "    dx = (np.pi/2 - 0) / n # Ancho de los intervalos\n",
        "    x = (np.arange(n) + 0.5) * dx\n",
        "    return np.sum(np.sin(x)) * dx\n",
        "\n",
        "\n",
        "### ------ COMPROBACIÓN CON ASSERT ------ ###\n",
        "numbers = 2000\n",
        "np.testing.assert_almost_equal(riemann_sum(numbers), TRUE_VALUE)\n",
        "np.testing.assert_almost_equal(riemann_sum_numba(numbers), TRUE_VALUE)\n",
        "np.testing.assert_almost_equal(riemann_sum_noloops(numbers), TRUE_VALUE)\n",
        "np.testing.assert_almost_equal(riemann_sum_noloops_numba(numbers), TRUE_VALUE)\n"
      ]
    },
    {
      "cell_type": "code",
      "execution_count": null,
      "id": "d3348bdc",
      "metadata": {
        "colab": {
          "base_uri": "https://localhost:8080/"
        },
        "id": "d3348bdc",
        "outputId": "1931be0e-53d4-4012-a3fa-fbdb33383378"
      },
      "outputs": [
        {
          "output_type": "stream",
          "name": "stdout",
          "text": [
            "Suma de Riemann con bucles, sin numba:\n",
            "2.26 ms ± 371 µs per loop (mean ± std. dev. of 7 runs, 1000 loops each)\n",
            "\n",
            "Suma de Riemann con bucles, con numba:\n",
            "43.7 µs ± 1.64 µs per loop (mean ± std. dev. of 7 runs, 10000 loops each)\n",
            "\n",
            "Suma de Riemann sin bucles, sin numba:\n",
            "47.8 µs ± 12.4 µs per loop (mean ± std. dev. of 7 runs, 10000 loops each)\n",
            "\n",
            "Suma de Riemann sin bucles, con numba:\n",
            "27.1 µs ± 767 ns per loop (mean ± std. dev. of 7 runs, 10000 loops each)\n"
          ]
        }
      ],
      "source": [
        "# Test the performance of the three functions\n",
        "\n",
        "print(\"Suma de Riemann con bucles, sin numba:\")\n",
        "%timeit riemann_sum(numbers)\n",
        "\n",
        "print(\"\\nSuma de Riemann con bucles, con numba:\")\n",
        "%timeit riemann_sum_numba(numbers)\n",
        "\n",
        "print(\"\\nSuma de Riemann sin bucles, sin numba:\")\n",
        "%timeit riemann_sum_noloops(numbers)\n",
        "\n",
        "print(\"\\nSuma de Riemann sin bucles, con numba:\")\n",
        "%timeit riemann_sum_noloops_numba(numbers)"
      ]
    }
  ],
  "metadata": {
    "kernelspec": {
      "display_name": "python_env",
      "language": "python",
      "name": "python3"
    },
    "language_info": {
      "codemirror_mode": {
        "name": "ipython",
        "version": 3
      },
      "file_extension": ".py",
      "mimetype": "text/x-python",
      "name": "python",
      "nbconvert_exporter": "python",
      "pygments_lexer": "ipython3",
      "version": "3.11.11"
    },
    "colab": {
      "provenance": []
    }
  },
  "nbformat": 4,
  "nbformat_minor": 5
}