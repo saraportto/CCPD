{
 "cells": [
  {
   "cell_type": "markdown",
   "id": "120f22b2",
   "metadata": {},
   "source": [
    "## Tema 10: Numba. Cython. Ufuncs en Numba (soluciones)"
   ]
  },
  {
   "cell_type": "markdown",
   "id": "b735b711",
   "metadata": {},
   "source": [
    "## A - Numba\n",
    "\n",
    "__Suma de Riemann__"
   ]
  },
  {
   "cell_type": "code",
   "execution_count": null,
   "id": "cc57b13e",
   "metadata": {},
   "outputs": [],
   "source": [
    "import numpy as np\n",
    "from numba import jit\n",
    "\n",
    "def riemann_sum(n):\n",
    "    dx = (np.pi/2 - 0) / n # Ancho de los intervalos\n",
    "    riemann_sum = 0\n",
    "    for i in range(n):\n",
    "        x = (i + 0.5) * dx  # Midpoint Riemann sum\n",
    "        riemann_sum += np.sin(x) * dx\n",
    "    return riemann_sum\n",
    "    \n",
    "@jit\n",
    "def riemann_sum_numba(n):\n",
    "    dx = (np.pi/2 - 0) / n # Ancho de los intervalos\n",
    "    riemann_sum = 0\n",
    "    for i in range(n):\n",
    "        x = (i + 0.5) * dx  # Midpoint Riemann sum\n",
    "        riemann_sum += np.sin(x) * dx\n",
    "    return riemann_sum\n",
    "\n",
    "def riemann_sum_noloops(n):\n",
    "    dx = (np.pi/2 - 0) / n # Ancho de los intervalos\n",
    "    points = np.arange(dx/2, np.pi/2, dx)\n",
    "    riemann_sum = np.sum(dx*np.sin(points))\n",
    "    return riemann_sum\n",
    "\n",
    "@jit\n",
    "def riemann_sum_noloops_numba(n):\n",
    "    dx = (np.pi/2 - 0) / n # Ancho de los intervalos\n",
    "    points = np.arange(dx/2, np.pi/2, dx)\n",
    "    riemann_sum = np.sum(dx*np.sin(points))\n",
    "    return riemann_sum\n"
   ]
  },
  {
   "cell_type": "code",
   "execution_count": null,
   "id": "e42eb9dc-70e4-4397-88e4-9a678dd5783f",
   "metadata": {},
   "outputs": [],
   "source": [
    "%timeit riemann_sum(2000)\n",
    "%timeit riemann_sum_noloops(2000)\n",
    "%timeit riemann_sum_numba(2000)\n",
    "%timeit riemann_sum_noloops_numba(2000)"
   ]
  },
  {
   "cell_type": "markdown",
   "id": "683627cc",
   "metadata": {},
   "source": [
    "## B - Cython\n",
    "\n",
    "__Suma de Riemann__"
   ]
  },
  {
   "cell_type": "code",
   "execution_count": null,
   "id": "38babf9c",
   "metadata": {},
   "outputs": [],
   "source": [
    "# riemann_sum_cython.pyx\n",
    "\n",
    "cimport numpy\n",
    "import numpy as np\n",
    "\n",
    "def riemann_sum_cython(int n):\n",
    "\n",
    "  cdef:\n",
    "    double dx\n",
    "    int i\n",
    "    double x\n",
    "    double riemann_sum = 0\n",
    "\n",
    "\n",
    "  dx = (np.pi/2 -0) / n\n",
    "  \n",
    "  for i in range(n):\n",
    "    x = (i + 0.5) * dx  # Midpoint Riemann sum\n",
    "    riemann_sum += np.sin(x) * dx\n",
    "  return riemann_sum"
   ]
  },
  {
   "cell_type": "code",
   "execution_count": null,
   "id": "5aae4a7c",
   "metadata": {},
   "outputs": [],
   "source": [
    "# riemann_sum_cython_setup.py\n",
    "\n",
    "from setuptools import setup\n",
    "from Cython.Build import cythonize\n",
    "import numpy\n",
    "\n",
    "setup(\n",
    "    ext_modules = cythonize(\"riemann_sum_cython.pyx\"),\n",
    "    include_dirs=[numpy.get_include()]\n",
    ")"
   ]
  },
  {
   "cell_type": "code",
   "execution_count": null,
   "id": "b5d895f7",
   "metadata": {},
   "outputs": [],
   "source": [
    "# riemann_sum_noloops_cython.pyx\n",
    "\n",
    "cimport numpy\n",
    "import numpy as np\n",
    "\n",
    "def riemann_sum_noloops_cython(int n):\n",
    "\n",
    "  cdef:\n",
    "    double dx = (np.pi/2 -0) / n\n",
    "    points = np.arange(dx/2, np.pi/2, dx)\n",
    "  \n",
    "  riemann_sum = np.sum(dx*np.sin(points))\n",
    "  return riemann_sum"
   ]
  },
  {
   "cell_type": "code",
   "execution_count": null,
   "id": "54fa5ca5",
   "metadata": {},
   "outputs": [],
   "source": [
    "# riemann_sum_noloops_cython_setup.py\n",
    "\n",
    "from setuptools import setup\n",
    "from Cython.Build import cythonize\n",
    "import numpy\n",
    "\n",
    "setup(\n",
    "    ext_modules = cythonize(\"riemann_sum_noloops_cython.pyx\"),\n",
    "    include_dirs=[numpy.get_include()]\n",
    ")"
   ]
  },
  {
   "cell_type": "raw",
   "id": "9a63c188",
   "metadata": {},
   "source": [
    "Resultados:\n",
    "* Riemann Cython: 1.33 ms (similar a Python)\n",
    "* Riemann noloops Cython: 26.1 µs (similar a Numba)"
   ]
  },
  {
   "cell_type": "markdown",
   "id": "890a6130",
   "metadata": {},
   "source": [
    "## C - Ufuncs en Numba\n",
    "\n",
    "__Ejercicio 3: vectorizar función en la GPU__"
   ]
  },
  {
   "cell_type": "code",
   "execution_count": null,
   "id": "8be716e2",
   "metadata": {},
   "outputs": [],
   "source": [
    "from matplotlib import pyplot as plt\n",
    "import numpy as np\n",
    "from numba import vectorize\n",
    "\n",
    "@vectorize(['int16(int16, int16)'], target='cuda')\n",
    "def zero_suppress(waveform_value, threshold):\n",
    "    if waveform_value < threshold:\n",
    "        result = 0\n",
    "    else:\n",
    "        result = waveform_value\n",
    "    return result\n",
    "\n",
    "n = 100000\n",
    "noise = np.random.normal(size=n) * 3\n",
    "pulses = np.maximum(np.sin(np.arange(n) / (n / 23)) - 0.3, 0.0)\n",
    "noisy_signal = ((pulses * 300) + noise).astype(np.int16)\n",
    "\n",
    "clean_signal = zero_suppress(noisy_signal, 15)\n",
    "\n",
    "fig, (ax1, ax2) = plt.subplots(nrows=2, ncols=1)\n",
    "ax1.plot(noisy_signal)\n",
    "ax1.set_ylabel(\"Señal ruidosa\")\n",
    "ax2.plot(clean_signal)\n",
    "ax2.set_ylabel(\"Señal limpia\")\n",
    "fig.tight_layout()\n",
    "fig.show()"
   ]
  },
  {
   "cell_type": "markdown",
   "id": "8c31c71d",
   "metadata": {},
   "source": [
    "__Ejercicio 4: optimizar la gestión de la memoria__"
   ]
  },
  {
   "cell_type": "code",
   "execution_count": null,
   "id": "72ca96b1",
   "metadata": {},
   "outputs": [],
   "source": [
    "import math\n",
    "from numba import vectorize, cuda\n",
    "from matplotlib import pyplot as plt\n",
    "import numpy as np\n",
    "\n",
    "@vectorize(['float32(float32, float32, float32)'], target='cuda')\n",
    "def make_pulses(i, period, amplitude):\n",
    "    return max(math.sin(i / period) - 0.3, 0.0) * amplitude\n",
    "\n",
    "@vectorize(['float32(float32, float32)'], target='cuda')\n",
    "def add_ufunc(x, y):\n",
    "    return x + y\n",
    "\n",
    "n = 100000\n",
    "period = n / 23\n",
    "h_noise = (np.random.normal(size=n) * 3).astype(np.float32)\n",
    "t = np.arange(n, dtype=np.float32)\n",
    "\n",
    "\n",
    "d_pulses = cuda.device_array(shape=(n,), dtype=np.float32)\n",
    "d_noise=cuda.to_device(h_noise)\n",
    "d_t=cuda.to_device(t)\n",
    "\n",
    "make_pulses(d_t, period, 100.0, out=d_pulses)\n",
    "waveform = add_ufunc(d_pulses, d_noise)\n",
    "\n",
    "\n",
    "fig, ax = plt.subplots(nrows=1, ncols=1)\n",
    "ax.plot(waveform)\n",
    "fig.show())"
   ]
  }
 ],
 "metadata": {
  "kernelspec": {
   "display_name": "Python 3 (ipykernel)",
   "language": "python",
   "name": "python3"
  },
  "language_info": {
   "codemirror_mode": {
    "name": "ipython",
    "version": 3
   },
   "file_extension": ".py",
   "mimetype": "text/x-python",
   "name": "python",
   "nbconvert_exporter": "python",
   "pygments_lexer": "ipython3",
   "version": "3.10.12"
  }
 },
 "nbformat": 4,
 "nbformat_minor": 5
}
